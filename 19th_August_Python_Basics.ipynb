{
 "cells": [
  {
   "cell_type": "markdown",
   "metadata": {},
   "source": [
    "# This is Nagaraju.Gundla Assignment"
   ]
  },
  {
   "cell_type": "markdown",
   "metadata": {},
   "source": [
    "# 1. Declare two variables, x and y, and assign them integer values. Swap the values of these variables without using any temporary variable.¶"
   ]
  },
  {
   "cell_type": "code",
   "execution_count": 1,
   "metadata": {},
   "outputs": [
    {
     "name": "stdout",
     "output_type": "stream",
     "text": [
      "before swap values are a,b: 10 20\n",
      "after swaping the values are a,b: 20 10\n"
     ]
    }
   ],
   "source": [
    "#declare the variables \n",
    "a=10\n",
    "b=20\n",
    "print('before swap values are a,b:',a,b)\n",
    "#swaping the variables \n",
    "a=a+b #a=a+b 10+20=30, a values is 30\n",
    "b=a-b  #b=a-b  b=30-20 , b=10\n",
    "a=a-b  # a=a-b a=30-10, a =20 \n",
    "print('after swaping the values are a,b:',a,b)"
   ]
  },
  {
   "cell_type": "markdown",
   "metadata": {},
   "source": [
    "# 2. Create a program that calculates the area of a rectangle. Take the length and width as inputs from the user and store them in variables. Calculate and display the area.¶"
   ]
  },
  {
   "cell_type": "code",
   "execution_count": 2,
   "metadata": {},
   "outputs": [
    {
     "name": "stdout",
     "output_type": "stream",
     "text": [
      "enter length value:15\n",
      "enter bearth value:10\n",
      "Area of  a rectangle is  150\n"
     ]
    }
   ],
   "source": [
    "# to calculate the area of the rectangle is a=l*b\n",
    "#declare the variables  and read the values l,b from the inputs \n",
    "l=int(input(\"enter length value:\"))\n",
    "b=int(input(\"enter bearth value:\"))\n",
    "#find rectangle are \n",
    "a=l*b\n",
    "print(\"Area of  a rectangle is \",a)\n"
   ]
  },
  {
   "cell_type": "markdown",
   "metadata": {},
   "source": [
    "# 3. Write a Python program that converts temperatures from Celsius to Fahrenheit. Take the temperature in Celsius as input, store it in a variable, convert it to Fahrenheit, and display the result.\n"
   ]
  },
  {
   "cell_type": "code",
   "execution_count": 3,
   "metadata": {},
   "outputs": [
    {
     "name": "stdout",
     "output_type": "stream",
     "text": [
      "enter celsius value 20\n",
      " Temperature in fahrenheit: 68.0\n"
     ]
    }
   ],
   "source": [
    "#convert from celsius to fahrenheit formula  f=(9/5*c)+32 or f=1.8*c+32\n",
    "#read celsius value from user \n",
    "c=float(input(\"enter celsius value \"))\n",
    "#convert into fahrenheit\n",
    "f=1.8*c+32\n",
    "print(\" Temperature in fahrenheit:\",f)"
   ]
  },
  {
   "cell_type": "markdown",
   "metadata": {},
   "source": [
    "# String based Questions:\n",
    "    "
   ]
  },
  {
   "cell_type": "markdown",
   "metadata": {},
   "source": [
    "# 1. Write a Python program that takes a string as input and prints the length of the string"
   ]
  },
  {
   "cell_type": "code",
   "execution_count": 1,
   "metadata": {},
   "outputs": [
    {
     "name": "stdout",
     "output_type": "stream",
     "text": [
      "enter any stingNagaraju\n",
      "entered sting value is  Nagaraju\n",
      "length of a given sting is  8\n"
     ]
    }
   ],
   "source": [
    "#read the sting from the user \n",
    "s=input(\"enter any sting\")\n",
    "print(\"entered sting value is \",s)\n",
    "#tofind length of the givne sting using the len() function \n",
    "n=len(s)\n",
    "print(\"length of a given sting is \",n)"
   ]
  },
  {
   "cell_type": "markdown",
   "metadata": {},
   "source": [
    "# 2. Create a program that takes a sentence from the user and counts the number of vowels (a, e, i, o, u) in the string.¶"
   ]
  },
  {
   "cell_type": "code",
   "execution_count": 2,
   "metadata": {},
   "outputs": [
    {
     "name": "stdout",
     "output_type": "stream",
     "text": [
      "enter  a sting value Nagaraju\n",
      "entered string value is : Nagaraju\n",
      "total number of the vowels in the given sting is : 4\n"
     ]
    }
   ],
   "source": [
    "s=input(\"enter  a sting value \")\n",
    "print(\"entered string value is :\",s)\n",
    "#to count number of vowels , use for loop for count \n",
    "v=0; # declare the vowel variable \n",
    "for i in s:\n",
    "    if(i=='a'or i=='e' or i=='i' or i=='o' or i=='u'):\n",
    "        v=v+1\n",
    "\n",
    "\n",
    "print(\"total number of the vowels in the given sting is :\",v)"
   ]
  },
  {
   "cell_type": "markdown",
   "metadata": {},
   "source": [
    "# 3. Given a string, reverse the order of characters using string slicing and print the reversed string.¶"
   ]
  },
  {
   "cell_type": "code",
   "execution_count": 3,
   "metadata": {},
   "outputs": [
    {
     "name": "stdout",
     "output_type": "stream",
     "text": [
      "enter some string value Nagaraju\n",
      "entered string is  Nagaraju\n",
      "reverse of a given sting is : ujaragaN\n"
     ]
    }
   ],
   "source": [
    "# read a sting from the user \n",
    "s=input(\"enter some string value \")\n",
    "print(\"entered string is \",s)\n",
    "#reverse order of a given string in slicing mode \n",
    "print(\"reverse of a given sting is :\",s[::-1])"
   ]
  },
  {
   "cell_type": "markdown",
   "metadata": {},
   "source": [
    "# 4. Write a program that takes a string as input and checks if it is a palindrome (reads the same forwards and backwards)."
   ]
  },
  {
   "cell_type": "code",
   "execution_count": 4,
   "metadata": {},
   "outputs": [
    {
     "name": "stdout",
     "output_type": "stream",
     "text": [
      "enter some string valuemadam\n",
      "you entered sting is  madam\n",
      "given sting is palindrome\n",
      "reverse a sting is   madam\n"
     ]
    }
   ],
   "source": [
    "#read sting from the user \n",
    "s=input(\"enter some string value\")\n",
    "print(\"you entered sting is \",s)\n",
    "#to find palindrome means reverse and orginal are same or not \n",
    "#reverse of a sting \n",
    "s1=s[::-1]\n",
    "#using = operator to find equal of not \n",
    "if s==s1:\n",
    "    print(\"given sting is palindrome\")\n",
    "    print(\"reverse a sting is  \",s1)\n",
    "else:\n",
    "    print(\"given sting is not a palindrome\")\n",
    "    print(\"reverse a sting is  \",s1)\n",
    "    "
   ]
  },
  {
   "cell_type": "code",
   "execution_count": null,
   "metadata": {},
   "outputs": [],
   "source": []
  }
 ],
 "metadata": {
  "kernelspec": {
   "display_name": "Python 3",
   "language": "python",
   "name": "python3"
  },
  "language_info": {
   "codemirror_mode": {
    "name": "ipython",
    "version": 3
   },
   "file_extension": ".py",
   "mimetype": "text/x-python",
   "name": "python",
   "nbconvert_exporter": "python",
   "pygments_lexer": "ipython3",
   "version": "3.7.3"
  }
 },
 "nbformat": 4,
 "nbformat_minor": 2
}
