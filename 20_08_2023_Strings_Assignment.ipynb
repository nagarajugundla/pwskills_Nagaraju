{
 "cells": [
  {
   "cell_type": "markdown",
   "metadata": {},
   "source": [
    "# TOPIC: String Based Assignment Problem"
   ]
  },
  {
   "cell_type": "markdown",
   "metadata": {},
   "source": [
    "# 1. Write a program to reverse a string."
   ]
  },
  {
   "cell_type": "code",
   "execution_count": 1,
   "metadata": {},
   "outputs": [
    {
     "name": "stdout",
     "output_type": "stream",
     "text": [
      "given sting : welcome\n",
      "reverse of a given string:  emoclew\n"
     ]
    }
   ],
   "source": [
    "#create a string \n",
    "s=\"welcome\"\n",
    "print(\"given sting :\",s)\n",
    "#reversing a sting in slicing method  v\n",
    "print(\"reverse of a given string: \",s[::-1])\n"
   ]
  },
  {
   "cell_type": "markdown",
   "metadata": {},
   "source": [
    "# 2. Check if a string is a palindrome."
   ]
  },
  {
   "cell_type": "code",
   "execution_count": 4,
   "metadata": {},
   "outputs": [
    {
     "name": "stdout",
     "output_type": "stream",
     "text": [
      "enter some sting hai\n",
      "given sting is not a palindrome \n"
     ]
    }
   ],
   "source": [
    "#read sting from user\n",
    "s1=input(\"enter some sting \")\n",
    "s2=s1[::-1]\n",
    "if s1==s2:\n",
    "    print(\"givne sting is palindrome\")\n",
    "else:\n",
    "    print(\"given sting is not a palindrome \")\n"
   ]
  },
  {
   "cell_type": "markdown",
   "metadata": {},
   "source": [
    "# 3. Convert a string to uppercase."
   ]
  },
  {
   "cell_type": "code",
   "execution_count": 6,
   "metadata": {},
   "outputs": [
    {
     "name": "stdout",
     "output_type": "stream",
     "text": [
      "enter some sting pwskills\n",
      "Given sting in upper caseformat\n"
     ]
    },
    {
     "data": {
      "text/plain": [
       "'PWSKILLS'"
      ]
     },
     "execution_count": 6,
     "metadata": {},
     "output_type": "execute_result"
    }
   ],
   "source": [
    "#create a string\n",
    "s3=input(\"enter some sting \")\n",
    "#convert sting into upper case upper() function\n",
    "print(\"Given sting in upper caseformat\")\n",
    "s3.upper()"
   ]
  },
  {
   "cell_type": "markdown",
   "metadata": {},
   "source": [
    "# 4. Convert a string to lowercase."
   ]
  },
  {
   "cell_type": "code",
   "execution_count": 7,
   "metadata": {},
   "outputs": [
    {
     "name": "stdout",
     "output_type": "stream",
     "text": [
      "enter some sting PWSKILLS\n",
      "Given sting in lower caseformat\n"
     ]
    },
    {
     "data": {
      "text/plain": [
       "'pwskills'"
      ]
     },
     "execution_count": 7,
     "metadata": {},
     "output_type": "execute_result"
    }
   ],
   "source": [
    "#create a string\n",
    "s4=input(\"enter some sting \")\n",
    "#convert sting into upper case () function\n",
    "print(\"Given sting in lower caseformat\")\n",
    "s4.lower()"
   ]
  },
  {
   "cell_type": "markdown",
   "metadata": {},
   "source": [
    "# 5. Count the number of vowels in a string."
   ]
  },
  {
   "cell_type": "code",
   "execution_count": 14,
   "metadata": {},
   "outputs": [
    {
     "name": "stdout",
     "output_type": "stream",
     "text": [
      "enter some stringpwskills\n",
      "given sting is : pwskills\n",
      "no of vowels in a givne sting : 1\n"
     ]
    }
   ],
   "source": [
    "#Read string from the user \n",
    "s5=input(\"enter some string\")\n",
    "print(\"given sting is :\",s5)\n",
    "#count number of vowels, a,e,i,o,u\n",
    "v=0\n",
    "for i in s5:\n",
    "    if(i==\"a\" or i==\"e\" or i==\"i\" or i==\"o\" or i==\"u\" ):\n",
    "        v=v+1\n",
    "print(\"no of vowels in a givne sting :\",v)"
   ]
  },
  {
   "cell_type": "markdown",
   "metadata": {},
   "source": [
    "# 6. Count the number of consonants in a string."
   ]
  },
  {
   "cell_type": "code",
   "execution_count": 33,
   "metadata": {},
   "outputs": [
    {
     "name": "stdout",
     "output_type": "stream",
     "text": [
      "enter some stringharika\n",
      "given sting is : harika\n",
      "no of consonants in a givne sting : 3\n"
     ]
    }
   ],
   "source": [
    "#Read string from the user \n",
    "s6=input(\"enter some string\")\n",
    "print(\"given sting is :\",s6)\n",
    "#count number of consonents other than  a,e,i,o,u\n",
    "c=0\n",
    "v=0\n",
    "for i in s6 :\n",
    "    if(i==\"a\" or i==\"e\" or i==\"i\" or i==\"o\" or i==\"u\" ):\n",
    "        v=v+1;\n",
    "    else :\n",
    "        c=c+1\n",
    "print(\"no of consonants in a givne sting :\",c)"
   ]
  },
  {
   "cell_type": "markdown",
   "metadata": {},
   "source": [
    "# 7. Remove all whitespaces from a string."
   ]
  },
  {
   "cell_type": "code",
   "execution_count": 5,
   "metadata": {},
   "outputs": [
    {
     "name": "stdout",
     "output_type": "stream",
     "text": [
      "given sting is : this is Nagarauju\n"
     ]
    },
    {
     "data": {
      "text/plain": [
       "'thisisNagarauju'"
      ]
     },
     "execution_count": 5,
     "metadata": {},
     "output_type": "execute_result"
    }
   ],
   "source": [
    "#Read string from the user \n",
    "s7=\"this is Nagarauju\"\n",
    "#s7=input(\"enter some string\")\n",
    "print(\"given sting is :\",s7)\n",
    "#to remove white spaces from the string using replace() function  \n",
    "s7.replace(\" \",\"\")"
   ]
  },
  {
   "cell_type": "markdown",
   "metadata": {},
   "source": [
    "# 8. Find the length of a string without using the `len()` function."
   ]
  },
  {
   "cell_type": "code",
   "execution_count": 11,
   "metadata": {},
   "outputs": [
    {
     "name": "stdout",
     "output_type": "stream",
     "text": [
      "enter some stringpwskills\n",
      "given sting is : pwskills\n",
      "length of a given string is  8\n"
     ]
    }
   ],
   "source": [
    "#Read string from the user \n",
    "s8=input(\"enter some string\")\n",
    "print(\"given sting is :\",s8)\n",
    "#using for loop to find length\n",
    "n=0\n",
    "for i in s8:\n",
    "    n=n+1\n",
    "print(\"length of a given string is \",n)"
   ]
  },
  {
   "cell_type": "markdown",
   "metadata": {},
   "source": [
    "# 9 Check if a string contains a specific word."
   ]
  },
  {
   "cell_type": "code",
   "execution_count": 19,
   "metadata": {},
   "outputs": [
    {
     "name": "stdout",
     "output_type": "stream",
     "text": [
      "given sting is : we are learning python\n"
     ]
    },
    {
     "data": {
      "text/plain": [
       "16"
      ]
     },
     "execution_count": 19,
     "metadata": {},
     "output_type": "execute_result"
    }
   ],
   "source": [
    "#Read string from the user \n",
    "s9=\"we are learning python\"\n",
    "print(\"given sting is :\",s9)\n",
    "s9.find(\"python\")\n",
    "#this returs -1 given sting is not find other wise return index of a sting value"
   ]
  },
  {
   "cell_type": "markdown",
   "metadata": {},
   "source": [
    "# 10. Replace a word in a string with another word."
   ]
  },
  {
   "cell_type": "code",
   "execution_count": 20,
   "metadata": {},
   "outputs": [
    {
     "name": "stdout",
     "output_type": "stream",
     "text": [
      "given sting is : we are bad students \n"
     ]
    },
    {
     "data": {
      "text/plain": [
       "'we are good students '"
      ]
     },
     "execution_count": 20,
     "metadata": {},
     "output_type": "execute_result"
    }
   ],
   "source": [
    "#Read string from the user \n",
    "s9=\"we are bad students \"\n",
    "print(\"given sting is :\",s9)\n",
    "s9.replace(\"bad\",\"good\") # the replace() function replace any word with another word"
   ]
  },
  {
   "cell_type": "markdown",
   "metadata": {},
   "source": [
    "# 11. Count the occurrences of a word in a string."
   ]
  },
  {
   "cell_type": "code",
   "execution_count": 5,
   "metadata": {},
   "outputs": [
    {
     "name": "stdout",
     "output_type": "stream",
     "text": [
      "given sting is  we are learing python strings python\n",
      "enter  some word in a string valuepython\n",
      "the occurrences of the word in a string is  2\n"
     ]
    }
   ],
   "source": [
    " #read the string from the user\n",
    "s11=\"we are learing python strings python\"\n",
    "print(\"given sting is \",s11)\n",
    "x=input(\"enter  some word in a string value\")\n",
    "#count occurrences of a word in a given string \n",
    "# split the string by spaces using split() method\n",
    "a = s11.split(\" \")\n",
    "# search for pattern in a\n",
    " count = 0\n",
    "for i in range(0, len(a)):\n",
    "    # if match found increase count\n",
    "    if (x == a[i]):\n",
    "        count = count + 1\n",
    "\n",
    "print(\"the occurrences of the word in a string is \",count)"
   ]
  },
  {
   "cell_type": "markdown",
   "metadata": {},
   "source": [
    "# 12. Find the first occurrence of a word in a string."
   ]
  },
  {
   "cell_type": "code",
   "execution_count": 10,
   "metadata": {},
   "outputs": [
    {
     "name": "stdout",
     "output_type": "stream",
     "text": [
      "given sting is  we are learing python strings python\n",
      "The index of first element occurrence: 3\n"
     ]
    }
   ],
   "source": [
    "#read the string from the user\n",
    "s12=\"we are learing python strings python\"\n",
    "print(\"given sting is \",s12)\n",
    "# using lfind()\n",
    "# to get first element occurrence\n",
    "\n",
    "res = s12.rfind('are')\n",
    " \n",
    "# printing result\n",
    "print (\"The index of first element occurrence: \" + str(res))\n"
   ]
  },
  {
   "cell_type": "markdown",
   "metadata": {},
   "source": [
    "# 13. Find the last occurrence of a word in a string."
   ]
  },
  {
   "cell_type": "code",
   "execution_count": 12,
   "metadata": {},
   "outputs": [
    {
     "name": "stdout",
     "output_type": "stream",
     "text": [
      "given sting is  we are learing python strings python\n",
      "The index of first element occurrence: 35\n"
     ]
    }
   ],
   "source": [
    "#read the string from the user\n",
    "s13=\"we are learing python strings python\"\n",
    "print(\"given sting is \",s13)\n",
    "# using rfind()\n",
    "# to get last element occurrence\n",
    "\n",
    "res = s12.rindex('n')\n",
    " \n",
    "# printing result\n",
    "print (\"The index of first element occurrence: \" + str(res))"
   ]
  },
  {
   "cell_type": "markdown",
   "metadata": {},
   "source": [
    "# 14. Split a string into a list of words."
   ]
  },
  {
   "cell_type": "code",
   "execution_count": 13,
   "metadata": {},
   "outputs": [
    {
     "data": {
      "text/plain": [
       "['we', 'are', 'good', 'students']"
      ]
     },
     "execution_count": 13,
     "metadata": {},
     "output_type": "execute_result"
    }
   ],
   "source": [
    "#create a sting \n",
    "s14=\"we are good students\"\n",
    "#using split() method to create list of words  \n",
    "s14.split()"
   ]
  },
  {
   "cell_type": "markdown",
   "metadata": {},
   "source": [
    "# 15. Join a list of words into a string."
   ]
  },
  {
   "cell_type": "code",
   "execution_count": 21,
   "metadata": {},
   "outputs": [
    {
     "name": "stdout",
     "output_type": "stream",
     "text": [
      "given  list of words are  \n",
      " ['we', 'are', 'good', 'students']\n"
     ]
    },
    {
     "data": {
      "text/plain": [
       "'we are good students'"
      ]
     },
     "execution_count": 21,
     "metadata": {},
     "output_type": "execute_result"
    }
   ],
   "source": [
    "#create a list of words \n",
    "s15=[\"we\",\"are\",\"good\",\"students\"]\n",
    "print(\"given  list of words are  \\n\",s15)\n",
    "#list into string\n",
    "#first create empty string then using join() method to join the list \n",
    "r= \" \"\n",
    "r.join(s15)"
   ]
  },
  {
   "cell_type": "markdown",
   "metadata": {},
   "source": [
    "# 16. Convert a string where words are separated by spaces to one where words are separated by underscores."
   ]
  },
  {
   "cell_type": "code",
   "execution_count": 24,
   "metadata": {},
   "outputs": [
    {
     "name": "stdout",
     "output_type": "stream",
     "text": [
      "I_am_learning_Data_Science_in_PWSkills\n"
     ]
    }
   ],
   "source": [
    "s16=\"I am learning Data Science in PWSkills\";\n",
    "s16=list(s16)\n",
    "n=len(s16)   \n",
    "for i in range(n):\n",
    "# Converting space to underscore\n",
    "    if(s16[i] == \" \"):\n",
    "        s16[i]=\"_\"\n",
    "        \n",
    "s16 = \"\".join(s16)\n",
    "print(s16);\n"
   ]
  },
  {
   "cell_type": "markdown",
   "metadata": {},
   "source": [
    "# 17. Check if a string starts with a specific word or phrase."
   ]
  },
  {
   "cell_type": "code",
   "execution_count": 25,
   "metadata": {},
   "outputs": [
    {
     "name": "stdout",
     "output_type": "stream",
     "text": [
      "True\n"
     ]
    }
   ],
   "source": [
    "# to check a specific word in a sting using startswith() function\n",
    "s17=\"data science\"\n",
    "print(s17.startswith(\"data\"))#returns true if word/phrase is avaliable"
   ]
  },
  {
   "cell_type": "markdown",
   "metadata": {},
   "source": [
    "# 18. Check if a string ends with a specific word or phrase."
   ]
  },
  {
   "cell_type": "code",
   "execution_count": 26,
   "metadata": {},
   "outputs": [
    {
     "name": "stdout",
     "output_type": "stream",
     "text": [
      "True\n"
     ]
    }
   ],
   "source": [
    "s18=\"mentor sir explain the concepts well\"\n",
    "#using endswiht() function to find ends word\n",
    "print(s18.endswith(\"well\")) "
   ]
  },
  {
   "cell_type": "markdown",
   "metadata": {},
   "source": [
    "# 19. Convert a string to title case (e.g., \"hello world\" to \"Hello World\")."
   ]
  },
  {
   "cell_type": "code",
   "execution_count": 27,
   "metadata": {},
   "outputs": [
    {
     "data": {
      "text/plain": [
       "'Python Programming'"
      ]
     },
     "execution_count": 27,
     "metadata": {},
     "output_type": "execute_result"
    }
   ],
   "source": [
    "s19=\"python programming\"\n",
    "#convert the string into title case using title() function\n",
    "s19.title()"
   ]
  },
  {
   "cell_type": "markdown",
   "metadata": {},
   "source": [
    "# 20. Find the longest word in a string."
   ]
  },
  {
   "cell_type": "code",
   "execution_count": 32,
   "metadata": {},
   "outputs": [
    {
     "data": {
      "text/plain": [
       "'students'"
      ]
     },
     "execution_count": 32,
     "metadata": {},
     "output_type": "execute_result"
    }
   ],
   "source": [
    "s20=\"we are good students\"\n",
    "#sting split() into words \n",
    "#find lenth of each word and sort then find longest word\n",
    "l=list(s20.split())#split the string and convert into list\n",
    "l=sorted(l,key=len) #using sorted method sort the list  and display last element\n",
    "l[-1]"
   ]
  },
  {
   "cell_type": "markdown",
   "metadata": {},
   "source": [
    "# 21. Find the shortest word in a string."
   ]
  },
  {
   "cell_type": "code",
   "execution_count": 39,
   "metadata": {},
   "outputs": [
    {
     "data": {
      "text/plain": [
       "'we'"
      ]
     },
     "execution_count": 39,
     "metadata": {},
     "output_type": "execute_result"
    }
   ],
   "source": [
    "s21=\"we are good students\"\n",
    "#sting split() into words \n",
    "#find lenth of each word and sort then find longest word\n",
    "l=list(s21.split())#split the string and convert into list\n",
    "l=sorted(l,key=len) #using sorted method sort the list  and display first element\n",
    "l[0]"
   ]
  },
  {
   "cell_type": "markdown",
   "metadata": {},
   "source": [
    "# 22. Reverse the order of words in a string."
   ]
  },
  {
   "cell_type": "code",
   "execution_count": 38,
   "metadata": {},
   "outputs": [
    {
     "data": {
      "text/plain": [
       "['students', 'good', 'are', 'we']"
      ]
     },
     "execution_count": 38,
     "metadata": {},
     "output_type": "execute_result"
    }
   ],
   "source": [
    "\n",
    "s22=\"we are good students\" # split() into words \n",
    "#find lenth of each word and sort then find longest word\n",
    "l=list(s22.split())#split the string and convert into list\n",
    "l[::-1]"
   ]
  },
  {
   "cell_type": "markdown",
   "metadata": {},
   "source": [
    "# 23. Check if a string is alphanumeric."
   ]
  },
  {
   "cell_type": "code",
   "execution_count": 43,
   "metadata": {},
   "outputs": [
    {
     "data": {
      "text/plain": [
       "True"
      ]
     },
     "execution_count": 43,
     "metadata": {},
     "output_type": "execute_result"
    }
   ],
   "source": [
    "s23=\"raki123\"\n",
    "s23.isalnum()#to check string having alphanumeric using the isalnum() function\n",
    "s23.is"
   ]
  },
  {
   "cell_type": "markdown",
   "metadata": {},
   "source": [
    "# 24. Extract all digits from a string."
   ]
  },
  {
   "cell_type": "code",
   "execution_count": 47,
   "metadata": {},
   "outputs": [
    {
     "name": "stdout",
     "output_type": "stream",
     "text": [
      "[5, 10]\n"
     ]
    }
   ],
   "source": [
    "\n",
    "s24=\"in this course having 5 mentors and 10 programmers  \"\n",
    "#split the string \n",
    "x=s24.split()\n",
    "r=[]\n",
    "for i in x:\n",
    "    if(i.isnumeric()):\n",
    "        r.append(int(i))\n",
    "print(r)\n",
    "        \n",
    "    \n",
    "    "
   ]
  },
  {
   "cell_type": "markdown",
   "metadata": {},
   "source": [
    "# 25. Extract all alphabets from a string."
   ]
  },
  {
   "cell_type": "code",
   "execution_count": 48,
   "metadata": {},
   "outputs": [
    {
     "name": "stdout",
     "output_type": "stream",
     "text": [
      "['in', 'this', 'course', 'having', 'mentors', 'and', 'programmers']\n"
     ]
    }
   ],
   "source": [
    "s25=\"in this course having 5 mentors and 10 programmers  \"\n",
    "#split the string \n",
    "x=s24.split()\n",
    "r=[]\n",
    "for i in x:\n",
    "    if(i.isalpha()):\n",
    "        r.append(i)\n",
    "print(r)"
   ]
  },
  {
   "cell_type": "markdown",
   "metadata": {},
   "source": [
    "# 26. Count the number of uppercase letters in a string."
   ]
  },
  {
   "cell_type": "code",
   "execution_count": 6,
   "metadata": {},
   "outputs": [
    {
     "name": "stdout",
     "output_type": "stream",
     "text": [
      "Upper case letters: 5\n"
     ]
    }
   ],
   "source": [
    "# Count the uppercase, use issupper() method\n",
    "s26=\"This is 4 Session in PWSkills\"\n",
    "upper=0\n",
    "for i in range(len(s26)):\n",
    "    if s26[i].isupper():\n",
    "        upper=upper+1\n",
    "print('Upper case letters:', upper)\n",
    "   "
   ]
  },
  {
   "cell_type": "code",
   "execution_count": null,
   "metadata": {},
   "outputs": [],
   "source": []
  },
  {
   "cell_type": "markdown",
   "metadata": {},
   "source": [
    "# 27. Count the number of lowercase letters in a string."
   ]
  },
  {
   "cell_type": "code",
   "execution_count": 7,
   "metadata": {},
   "outputs": [
    {
     "name": "stdout",
     "output_type": "stream",
     "text": [
      "Lower case letters: 18\n"
     ]
    }
   ],
   "source": [
    "# Count the uppercase, use issupper() method\n",
    "s27=\"This is 4 Session in PWSkills\"\n",
    "lower=0\n",
    "for i in range(len(s27)):\n",
    "    if s27[i].islower():\n",
    "        lower=lower+1;\n",
    "print('Lower case letters:', lower)"
   ]
  },
  {
   "cell_type": "markdown",
   "metadata": {},
   "source": [
    "# 28. Swap the case of each character in a string"
   ]
  },
  {
   "cell_type": "code",
   "execution_count": 16,
   "metadata": {},
   "outputs": [
    {
     "name": "stdout",
     "output_type": "stream",
     "text": [
      "pwsKILLS\n"
     ]
    }
   ],
   "source": [
    "#swap case means chantge every character in case \n",
    "#index is in lower case, then subtract 32 to convert it into upper case, else add 32 to convert it in lowercase.\n",
    "#ASCII values  of alphabets: A – Z = 65 to 90,\n",
    "#a – z = 97 to 122ASCII values  of alphabets: A – Z = 65 to 90, a – z = 97 to 122\n",
    "s28=\"PWSkills\"\n",
    "s28= list(s28)\n",
    "ln = len(s28)\n",
    " \n",
    "    # Conversion according to ASCII values\n",
    "for i in range(ln):\n",
    "        if s28[i] >= 'a' and s28[i] <= 'z':\n",
    "           # Convert lowercase to uppercase\n",
    "            s28[i] = chr(ord(s28[i]) - 32) \n",
    "        elif s28[i] >= 'A' and s28[i] <= 'Z':\n",
    "           # Convert lowercase to uppercase\n",
    "            s28[i] = chr(ord(s28[i]) + 32)\n",
    "s28= ''.join(s28)\n",
    "print(s28)\n",
    " "
   ]
  },
  {
   "cell_type": "markdown",
   "metadata": {},
   "source": [
    "# 29. Remove a specific word from a string."
   ]
  },
  {
   "cell_type": "code",
   "execution_count": 17,
   "metadata": {},
   "outputs": [
    {
     "data": {
      "text/plain": [
       "'we are  students'"
      ]
     },
     "execution_count": 17,
     "metadata": {},
     "output_type": "execute_result"
    }
   ],
   "source": [
    "#we use replace() function to remove a word from string\n",
    "s29=\"we are bad students\"\n",
    "#remove bad word from string\n",
    "s29.replace(\"bad\",\"\")"
   ]
  },
  {
   "cell_type": "markdown",
   "metadata": {},
   "source": [
    "# 30. Check if a string is a valid email address."
   ]
  },
  {
   "cell_type": "code",
   "execution_count": 4,
   "metadata": {},
   "outputs": [
    {
     "name": "stdout",
     "output_type": "stream",
     "text": [
      "Valid Email\n"
     ]
    }
   ],
   "source": [
    "#if a string having valid email address having two characters @,.\n",
    "import re\n",
    " \n",
    "# Make a regular expression\n",
    "# for validating an Email\n",
    "regex = r'\\b[A-Za-z0-9._%+-]+@[A-Za-z0-9.-]+\\.[A-Z|a-z]{2,7}\\b'\n",
    " \n",
    "# Define a function for\n",
    "# for validating an Email\n",
    "def check(email):\n",
    " \n",
    "    # pass the regular expression\n",
    "    # and the string into the fullmatch() method\n",
    "    if(re.fullmatch(regex, email)):\n",
    "        print(\"Valid Email\")\n",
    " \n",
    "    else:\n",
    "        print(\"Invalid Email\")\n",
    " \n",
    "# Driver Code\n",
    "if __name__ == '__main__':\n",
    " \n",
    "    # Enter the email\n",
    "    email = \"nagaraju.gundla@gmail.com\"\n",
    " \n",
    "    # calling run function\n",
    "    check(email)\n",
    "    "
   ]
  },
  {
   "cell_type": "markdown",
   "metadata": {},
   "source": [
    "# 31. Extract the username from an email address string."
   ]
  },
  {
   "cell_type": "code",
   "execution_count": 16,
   "metadata": {},
   "outputs": [
    {
     "name": "stdout",
     "output_type": "stream",
     "text": [
      "The original string is : nagaraju.gundla@gmail.com\n",
      "The extracted domain name : nagaraju.gundla\n"
     ]
    }
   ],
   "source": [
    "# initializing strings\n",
    "test_str = 'nagaraju.gundla@gmail.com'\n",
    " \n",
    "# printing original string\n",
    "print(\"The original string is : \" + str(test_str))\n",
    " \n",
    "# slicing domain name using slicing\n",
    "res = test_str.split('@')\n",
    "list(res) \n",
    "# printing result\n",
    "print(\"The extracted domain name : \" + res[0])\n"
   ]
  },
  {
   "cell_type": "markdown",
   "metadata": {},
   "source": [
    "# 32. Extract the domain name from an email address string."
   ]
  },
  {
   "cell_type": "code",
   "execution_count": 17,
   "metadata": {},
   "outputs": [
    {
     "name": "stdout",
     "output_type": "stream",
     "text": [
      "The original string is : nagaraju.gundla@gmail.com\n",
      "The extracted domain name : gmail.com\n"
     ]
    }
   ],
   "source": [
    "\n",
    "# initializing strings\n",
    "test_str = 'nagaraju.gundla@gmail.com'\n",
    " \n",
    "# printing original string\n",
    "print(\"The original string is : \" + str(test_str))\n",
    " \n",
    "# slicing domain name using slicing\n",
    "res = test_str.split('@')\n",
    "list(res) \n",
    "# printing result\n",
    "print(\"The extracted domain name : \" + res[1])"
   ]
  },
  {
   "cell_type": "markdown",
   "metadata": {},
   "source": [
    "# 33. Replace multiple spaces in a string with a single space."
   ]
  },
  {
   "cell_type": "code",
   "execution_count": 8,
   "metadata": {},
   "outputs": [
    {
     "name": "stdout",
     "output_type": "stream",
     "text": [
      "we are learning python sting Applications\n"
     ]
    }
   ],
   "source": [
    "#split and join the strings for removing multiple spaces\n",
    "s33=\"we   are    learning    python sting Applications \"\n",
    "#s33.split()\n",
    "s33=\" \".join(s33.split())\n",
    "print(s33)"
   ]
  },
  {
   "cell_type": "markdown",
   "metadata": {},
   "source": [
    "# 34. Check if a string is a valid URL"
   ]
  },
  {
   "cell_type": "code",
   "execution_count": 2,
   "metadata": {},
   "outputs": [
    {
     "name": "stdout",
     "output_type": "stream",
     "text": [
      "URL is invalid\n"
     ]
    }
   ],
   "source": [
    "import validators\n",
    "validation = validators.url(\"hp:/www.google.com\")\n",
    "if validation:\n",
    "    print(\"URL is valid\")\n",
    "else:\n",
    "    print(\"URL is invalid\")"
   ]
  },
  {
   "cell_type": "markdown",
   "metadata": {},
   "source": [
    "# 35. Extract the protocol (http or https) from a URL string."
   ]
  },
  {
   "cell_type": "code",
   "execution_count": 13,
   "metadata": {},
   "outputs": [
    {
     "data": {
      "text/plain": [
       "ParseResult(scheme='https', netloc='www.google.co.in', path='/', params='', query='', fragment='')"
      ]
     },
     "execution_count": 13,
     "metadata": {},
     "output_type": "execute_result"
    }
   ],
   "source": [
    "from urllib.parse import urlparse\n",
    "s35=\"https://www.google.co.in/\"\n",
    "u=urlparse(s35)\n",
    "u"
   ]
  },
  {
   "cell_type": "markdown",
   "metadata": {},
   "source": [
    "# 36. Find the frequency of each character in a string."
   ]
  },
  {
   "cell_type": "code",
   "execution_count": 3,
   "metadata": {},
   "outputs": [
    {
     "name": "stdout",
     "output_type": "stream",
     "text": [
      "Count of all characters in PWSkills is :\n",
      " {'P': 1, 'W': 1, 'S': 1, 'k': 1, 'i': 1, 'l': 2, 's': 1}\n"
     ]
    }
   ],
   "source": [
    "# initializing string\n",
    "s36= \"PWSkills\"\n",
    " \n",
    "# using naive method to get count\n",
    "# of each element in string\n",
    "freq_char = {}\n",
    " \n",
    "for i in s36:\n",
    "    if i in freq_char:\n",
    "        freq_char[i] += 1\n",
    "    else:\n",
    "        freq_char[i] = 1\n",
    " \n",
    "# printing result\n",
    "print(\"Count of all characters in PWSkills is :\\n \" + str(freq_char))"
   ]
  },
  {
   "cell_type": "markdown",
   "metadata": {},
   "source": [
    "# 37. Remove all punctuation from a string."
   ]
  },
  {
   "cell_type": "code",
   "execution_count": 5,
   "metadata": {},
   "outputs": [
    {
     "name": "stdout",
     "output_type": "stream",
     "text": [
      "Data Science mentors proving good knowledge \n"
     ]
    }
   ],
   "source": [
    "import string\n",
    " \n",
    "s37 = 'Data Science, mentors ,proving good knowledge !'\n",
    " \n",
    "s37 = s37.translate(str.maketrans('', '', string.punctuation))\n",
    "print(s37)"
   ]
  },
  {
   "cell_type": "markdown",
   "metadata": {},
   "source": [
    "# 38. Check if a string contains only digits."
   ]
  },
  {
   "cell_type": "code",
   "execution_count": 8,
   "metadata": {},
   "outputs": [
    {
     "name": "stdout",
     "output_type": "stream",
     "text": [
      "string contains all digits\n"
     ]
    }
   ],
   "source": [
    "#initilise the string\n",
    "s38=\"6789\"\n",
    "\n",
    "#s38.isdigit()  checking the digit in string \n",
    "if s38.isdigit():\n",
    "    print(\"string contains all digits\")\n",
    "else:\n",
    "    print(\"string not contains  all digits \")"
   ]
  },
  {
   "cell_type": "markdown",
   "metadata": {},
   "source": [
    "# 39. Check if a string contains only alphabets."
   ]
  },
  {
   "cell_type": "code",
   "execution_count": 10,
   "metadata": {},
   "outputs": [
    {
     "name": "stdout",
     "output_type": "stream",
     "text": [
      "string contains alphabets\n"
     ]
    }
   ],
   "source": [
    "s39=\"pwskills\"\n",
    "#s39.isalpha()\n",
    "if s39.isalpha():\n",
    "    print(\"string contains alphabets\")\n",
    "else:\n",
    "    print(\"string does not contain alphabets\")"
   ]
  },
  {
   "cell_type": "markdown",
   "metadata": {},
   "source": [
    "# 40. Convert a string to a list of characters."
   ]
  },
  {
   "cell_type": "code",
   "execution_count": 12,
   "metadata": {},
   "outputs": [
    {
     "data": {
      "text/plain": [
       "['P', 'W', 'S', 'k', 'i', 'l', 'l', 's']"
      ]
     },
     "execution_count": 12,
     "metadata": {},
     "output_type": "execute_result"
    }
   ],
   "source": [
    "s40=\"PWSkills\"\n",
    "#  sting convert into list using list() function\n",
    "list(s40)"
   ]
  },
  {
   "cell_type": "markdown",
   "metadata": {},
   "source": [
    "# 41. Check if two strings are anagrams"
   ]
  },
  {
   "cell_type": "code",
   "execution_count": 20,
   "metadata": {},
   "outputs": [
    {
     "name": "stdout",
     "output_type": "stream",
     "text": [
      "strings are anagram\n"
     ]
    }
   ],
   "source": [
    "#An anagram of a string is another string that contains the same characters, \n",
    "a=\"abcd\"\n",
    "b=\"dacb\"\n",
    "a=sorted(a)\n",
    "b=sorted(b)\n",
    "if a==b:\n",
    "    print(\"strings are anagram\")\n",
    "else:\n",
    "    print(\"strings are not anagram\")"
   ]
  },
  {
   "cell_type": "markdown",
   "metadata": {},
   "source": [
    "# 42. Encode a string using a Caesar cipher."
   ]
  },
  {
   "cell_type": "code",
   "execution_count": 21,
   "metadata": {},
   "outputs": [
    {
     "name": "stdout",
     "output_type": "stream",
     "text": [
      "Text  : PWSkills\n",
      "Shift : 2\n",
      "Cipher: RYUmknnu\n"
     ]
    }
   ],
   "source": [
    "#The Caesar Cipher technique is one of the earliest and simplest methods of encryption technique\n",
    "#A python program to illustrate Caesar Cipher Technique\n",
    "text = \"PWSkills\"\n",
    "s = 2\n",
    "result = \"\"\n",
    "# traverse text\n",
    "for i in range(len(text)):\n",
    "    char = text[i]\n",
    "        # Encrypt uppercase characters\n",
    "    if (char.isupper()):\n",
    "        result += chr((ord(char) + s-65) % 26 + 65)\n",
    "        # Encrypt lowercase characters\n",
    "    else:\n",
    "        result += chr((ord(char) + s - 97) % 26 + 97)\n",
    "#check the above function\n",
    "print (\"Text  : \" + text)\n",
    "print (\"Shift : \" + str(s))\n",
    "print (\"Cipher: \" + result)"
   ]
  },
  {
   "cell_type": "markdown",
   "metadata": {},
   "source": [
    "# 43. Decode a Caesar cipher encoded string"
   ]
  },
  {
   "cell_type": "code",
   "execution_count": 24,
   "metadata": {},
   "outputs": [
    {
     "name": "stdout",
     "output_type": "stream",
     "text": [
      "Text  : RYUmknnu\n",
      "Shift : 2\n",
      "Cipher: PWSkills\n"
     ]
    }
   ],
   "source": [
    "#The Caesar Cipher technique is one of the earliest and simplest methods of encryption technique\n",
    "#A python program to illustrate Caesar Cipher Technique\n",
    "text = \"RYUmknnu\"\n",
    "s = 2\n",
    "result = \"\"\n",
    "# traverse text\n",
    "for i in range(len(text)):\n",
    "    char = text[i]\n",
    "        # decrypt uppercase characters\n",
    "    if (char.isupper()):\n",
    "        result += chr((ord(char) - s-65) % 26 + 65)\n",
    "        # decrypt lowercase characters\n",
    "    else:\n",
    "        result += chr((ord(char) - s - 97) % 26 + 97)\n",
    "#check the above function\n",
    "print (\"Text  : \" + text)\n",
    "print (\"Shift : \" + str(s))\n",
    "print (\"Cipher: \" + result)"
   ]
  },
  {
   "cell_type": "markdown",
   "metadata": {},
   "source": [
    "# 44. Find the most frequent word in a string."
   ]
  },
  {
   "cell_type": "code",
   "execution_count": 25,
   "metadata": {},
   "outputs": [
    {
     "name": "stdout",
     "output_type": "stream",
     "text": [
      "The original list is : ['good teaching sudhanshu sir', 'good institute PWSkills ', 'good method of teaching']\n",
      "Word with maximum frequency : good\n"
     ]
    }
   ],
   "source": [
    "# Most frequent word in Strings List\n",
    "from collections import Counter\n",
    " \n",
    "# function which returns\n",
    "# most frequent word\n",
    "def mostFrequentWord(words):\n",
    "   \n",
    "    # Taking empty list\n",
    "    lis = []\n",
    "    for i in words:\n",
    "       \n",
    "        # Getting all words\n",
    "        for j in i.split():\n",
    "            lis.append(j)\n",
    "             \n",
    "    # Calculating frequency of all words\n",
    "    freq = Counter(lis)\n",
    "     \n",
    "    # find max count and print that key\n",
    "    max = 0\n",
    "    for i in freq:\n",
    "        if(freq[i] > max):\n",
    "            max = freq[i]\n",
    "            word = i\n",
    "            return word\n",
    "words = [\"good teaching sudhanshu sir\", \"good institute PWSkills \", \"good method of teaching\"]\n",
    " \n",
    "# printing original list\n",
    "print(\"The original list is : \" + str(words))\n",
    " \n",
    "print(\"Word with maximum frequency : \" + mostFrequentWord(words))\n"
   ]
  },
  {
   "cell_type": "markdown",
   "metadata": {},
   "source": [
    "# 45. Find all unique words in a string."
   ]
  },
  {
   "cell_type": "code",
   "execution_count": 27,
   "metadata": {},
   "outputs": [
    {
     "name": "stdout",
     "output_type": "stream",
     "text": [
      "\n",
      "hard\n",
      "work\n",
      "we\n",
      "very\n"
     ]
    }
   ],
   "source": [
    "# in python using set() method #set to eliminate duplicate values\n",
    "# function to print unique words\n",
    "str = \"we work very very hard \"\n",
    "s45 = set(str.split(\" \"))\n",
    "# for loop for iterating\n",
    "for i in s45:\n",
    "    print(i)\n",
    " \n",
    " \n",
    "\n"
   ]
  },
  {
   "cell_type": "markdown",
   "metadata": {},
   "source": [
    "# 46. Count the number of syllables in a string."
   ]
  },
  {
   "cell_type": "code",
   "execution_count": 37,
   "metadata": {},
   "outputs": [
    {
     "name": "stdout",
     "output_type": "stream",
     "text": [
      "Enter the string:HAIRY\n",
      "The number of syllables in the word is: \n",
      "2\n"
     ]
    }
   ],
   "source": [
    "#syllbles mean pronounce vowel \n",
    "s46=input(\"Enter the string:\")\n",
    "syllable_count=0\n",
    "for w in s46:\n",
    "      if(w=='a' or w=='e' or w=='i' or w=='o' or w=='u' or w=='A' or w=='E' or w=='I' or w=='O' or w=='U'):\n",
    "            syllable_count=syllable_count+1\n",
    "print(\"The number of syllables in the word is: \")\n",
    "print(syllable_count)"
   ]
  },
  {
   "cell_type": "markdown",
   "metadata": {},
   "source": [
    "# 47. Check if a string contains any special characters."
   ]
  },
  {
   "cell_type": "code",
   "execution_count": 38,
   "metadata": {},
   "outputs": [
    {
     "name": "stdout",
     "output_type": "stream",
     "text": [
      "number of special characters/ symbols are:  3\n"
     ]
    }
   ],
   "source": [
    "s46=\"amazing!!!\"\n",
    "    # Declaring variable for special characters \n",
    "special_char=0\n",
    "for i in range(0, len(s46)):  \n",
    "    # len(string) function to count the \n",
    "    # number of characters in given string.\n",
    "      \n",
    "    ch = s46[i]\n",
    "  \n",
    "        #.isalpha() function checks whether character \n",
    "        #is alphabet or not.\n",
    "    if (s46[i].isalpha()):  \n",
    "        continue\n",
    "        \n",
    "        #.isdigit() function checks whether character \n",
    "        #is a number or not.\n",
    "    elif (s46[i].isdigit()):\n",
    "        continue\n",
    "            \n",
    "    else: \n",
    "        special_char += 1\n",
    "print(\"number of special characters/ symbols are: \",special_char)"
   ]
  },
  {
   "cell_type": "markdown",
   "metadata": {},
   "source": [
    "# 48. Remove the nth word from a string."
   ]
  },
  {
   "cell_type": "code",
   "execution_count": 10,
   "metadata": {},
   "outputs": [
    {
     "name": "stdout",
     "output_type": "stream",
     "text": [
      "new list is : ['we', 'are', 'good', 'std', 'that', 'is', 'raju']\n"
     ]
    }
   ],
   "source": [
    "# Python3 program to remove Nth\n",
    "# occurrence of the given word\n",
    " \n",
    "# Function to remove nth word\n",
    "\n",
    "def omit(list1, word, n1):\n",
    " \n",
    "    # for counting the occurrence of word\n",
    "    count = 0\n",
    " \n",
    "    # for counting the index number\n",
    "    # where we are at present\n",
    "    index = 0\n",
    " \n",
    "    for i in list1:\n",
    "        index += 1\n",
    "        if i == word:\n",
    "            count += 1\n",
    "            if count == n1:\n",
    " \n",
    "                # (index-1) because in list\n",
    "                # indexing start from 0th position\n",
    "                list1.pop(index-1)\n",
    "    return list1\n",
    "\n",
    "list1 = [\"we\", \"are\", \"good\", \"std\",\n",
    "         \"that\", \"is\",\"raju\" ]\n",
    " \n",
    "word = \"good\"\n",
    "n1 = 2\n",
    " \n",
    "print(\"new list is :\", omit(list1, word, n1))"
   ]
  },
  {
   "cell_type": "markdown",
   "metadata": {},
   "source": [
    "# 49. Insert a word at the nth position in a string."
   ]
  },
  {
   "cell_type": "code",
   "execution_count": 3,
   "metadata": {},
   "outputs": [
    {
     "name": "stdout",
     "output_type": "stream",
     "text": [
      "The original string : we learning python \n",
      "The add string : are \n",
      "The string after performing addition : we are learning python \n"
     ]
    }
   ],
   "source": [
    "# Add WORD at specific index\n",
    "# using list slicing\n",
    " \n",
    "# initializing string\n",
    "test_string = 'we learning python '\n",
    " \n",
    "# initializing add_string\n",
    "add_string = \"are \"\n",
    " \n",
    "# printing original string\n",
    "print(\"The original string : \" + test_string)\n",
    " \n",
    "# printing add string\n",
    "print(\"The add string : \" + add_string)\n",
    " \n",
    "# initializing N\n",
    "N = 3\n",
    " \n",
    "# using list slicing\n",
    "# Add substring at specific index\n",
    "res = test_string[ : N] + add_string + test_string[N : ]\n",
    "     \n",
    "# print result\n",
    "print(\"The string after performing addition : \" + str(res))"
   ]
  },
  {
   "cell_type": "markdown",
   "metadata": {},
   "source": [
    "# 50. Convert a CSV string to a list of lists."
   ]
  },
  {
   "cell_type": "code",
   "execution_count": 17,
   "metadata": {},
   "outputs": [
    {
     "name": "stdout",
     "output_type": "stream",
     "text": [
      "['we', ',are,', 'learning', ',python']\n"
     ]
    }
   ],
   "source": [
    "s50=\"we ,are, learning ,python\"\n",
    "List_string=s50.split()\n",
    "\n",
    "res1=list(List_string)\n",
    "print(res1)"
   ]
  },
  {
   "cell_type": "markdown",
   "metadata": {},
   "source": [
    "# List Based Practice Problem :"
   ]
  },
  {
   "cell_type": "markdown",
   "metadata": {},
   "source": [
    "# 1. Create a list with integers from 1 to 10."
   ]
  },
  {
   "cell_type": "code",
   "execution_count": 21,
   "metadata": {},
   "outputs": [
    {
     "name": "stdout",
     "output_type": "stream",
     "text": [
      "[1, 2, 3, 4, 5, 6, 7, 8, 9, 10]\n"
     ]
    }
   ],
   "source": [
    "l=[1,2,3,4,5,6,7,8,9,10]\n",
    "print(l)"
   ]
  },
  {
   "cell_type": "markdown",
   "metadata": {},
   "source": [
    "# 2. Find the length of a list without using the `len()` function."
   ]
  },
  {
   "cell_type": "code",
   "execution_count": 43,
   "metadata": {},
   "outputs": [
    {
     "name": "stdout",
     "output_type": "stream",
     "text": [
      "length of a given sting is  3\n"
     ]
    }
   ],
   "source": [
    "l2=[1,2,3]\n",
    "count=0\n",
    "for i in l2:\n",
    "    count=count+1\n",
    "print(\"length of a given sting is \",count)\n"
   ]
  },
  {
   "cell_type": "markdown",
   "metadata": {},
   "source": [
    "# 3. Append an element to the end of a list."
   ]
  },
  {
   "cell_type": "code",
   "execution_count": 45,
   "metadata": {},
   "outputs": [
    {
     "name": "stdout",
     "output_type": "stream",
     "text": [
      "['sun', 'mon', 'tue', 'wed']\n"
     ]
    }
   ],
   "source": [
    "#using append mthod \n",
    "l3=[\"sun\",\"mon\",\"tue\"]\n",
    "l3.append(\"wed\")\n",
    "print(l3)"
   ]
  },
  {
   "cell_type": "markdown",
   "metadata": {},
   "source": [
    "# 4. Insert an element at a specific index in a list."
   ]
  },
  {
   "cell_type": "code",
   "execution_count": 49,
   "metadata": {},
   "outputs": [
    {
     "data": {
      "text/plain": [
       "['PW', 'skills', 'teach', 'well']"
      ]
     },
     "execution_count": 49,
     "metadata": {},
     "output_type": "execute_result"
    }
   ],
   "source": [
    "#using inset() method \n",
    "l4=[\"PW\",\"teach\",\"well\"]\n",
    "l4.insert(1,\"skills\")\n",
    "l4"
   ]
  },
  {
   "cell_type": "markdown",
   "metadata": {},
   "source": [
    "# 5. Remove an element from a list by its value."
   ]
  },
  {
   "cell_type": "code",
   "execution_count": 50,
   "metadata": {},
   "outputs": [
    {
     "name": "stdout",
     "output_type": "stream",
     "text": [
      "['banana', 'apple', 'mango']\n"
     ]
    }
   ],
   "source": [
    "#uisng remove() method remove an element\n",
    "l5=[\"banana\",\"apple\",\"ball\",\"mango\"]\n",
    "l5.remove(\"ball\")\n",
    "print(l5)"
   ]
  },
  {
   "cell_type": "markdown",
   "metadata": {},
   "source": [
    "# 6. Remove an element from a list by its index."
   ]
  },
  {
   "cell_type": "code",
   "execution_count": 52,
   "metadata": {},
   "outputs": [
    {
     "name": "stdout",
     "output_type": "stream",
     "text": [
      "[10, 20, 40, 50]\n"
     ]
    }
   ],
   "source": [
    "#uing pop() mthod remove its index\n",
    "l6=[10,20,30,40,50]\n",
    "l6.pop(2) #remove 30 element\n",
    "print(l6)"
   ]
  },
  {
   "cell_type": "markdown",
   "metadata": {},
   "source": [
    "# 7. Check if an element exists in a list."
   ]
  },
  {
   "cell_type": "code",
   "execution_count": 57,
   "metadata": {},
   "outputs": [
    {
     "name": "stdout",
     "output_type": "stream",
     "text": [
      "exists\n"
     ]
    }
   ],
   "source": [
    "l7=[10, 200,3000]\n",
    "#checking 200 element in the list by using in operator \n",
    "if 200 in l7:\n",
    "    print(\"exists\")\n",
    "else:\n",
    "    print(\"does not exists\")\n",
    "\n",
    "    "
   ]
  },
  {
   "cell_type": "markdown",
   "metadata": {},
   "source": [
    "# 8. Find the index of the first occurrence of an element in a list."
   ]
  },
  {
   "cell_type": "code",
   "execution_count": 59,
   "metadata": {},
   "outputs": [
    {
     "name": "stdout",
     "output_type": "stream",
     "text": [
      "first occurrence of an element: 0\n"
     ]
    }
   ],
   "source": [
    "#using index() method to find it.\n",
    "l8=[\"twitter\",\"google\",\"cdac\",\"tcs\"]\n",
    "print(\"first occurrence of an element:\",l8.index(\"twitter\"))"
   ]
  },
  {
   "cell_type": "markdown",
   "metadata": {},
   "source": [
    "# 9. Count the occurrences of an element in a list"
   ]
  },
  {
   "cell_type": "code",
   "execution_count": 60,
   "metadata": {},
   "outputs": [
    {
     "name": "stdout",
     "output_type": "stream",
     "text": [
      "no of occurrence of a given number is  2\n"
     ]
    }
   ],
   "source": [
    "#means an elment comes no of times \n",
    "l9=[4,5,6,7,5,9,10,11]\n",
    "#here to find 5 in number of occurrences \n",
    "n=5\n",
    "count=0\n",
    "for i in l9:\n",
    "    if(i==n):\n",
    "        count=count+1\n",
    "print(\"no of occurrence of a given number is \",count)"
   ]
  },
  {
   "cell_type": "markdown",
   "metadata": {},
   "source": [
    "# 10. Reverse the order of elements in a list."
   ]
  },
  {
   "cell_type": "code",
   "execution_count": 61,
   "metadata": {},
   "outputs": [
    {
     "data": {
      "text/plain": [
       "[5, 4, 3, 2, 1]"
      ]
     },
     "execution_count": 61,
     "metadata": {},
     "output_type": "execute_result"
    }
   ],
   "source": [
    "l10=[1,2,3,4,5]\n",
    "#reverse order using slicing method \n",
    "l10[::-1]"
   ]
  },
  {
   "cell_type": "markdown",
   "metadata": {},
   "source": [
    "# 11. Sort a list in ascending order."
   ]
  },
  {
   "cell_type": "code",
   "execution_count": 68,
   "metadata": {},
   "outputs": [
    {
     "data": {
      "text/plain": [
       "[1, 2, 5, 7, 10]"
      ]
     },
     "execution_count": 68,
     "metadata": {},
     "output_type": "execute_result"
    }
   ],
   "source": [
    "l11=[5,2,7,10,1]\n",
    "# the sort() method is sor the list of items in assending order \n",
    "l11.sort()\n",
    "l11"
   ]
  },
  {
   "cell_type": "markdown",
   "metadata": {},
   "source": [
    "# 12. Sort a list in descending order."
   ]
  },
  {
   "cell_type": "code",
   "execution_count": 69,
   "metadata": {},
   "outputs": [
    {
     "data": {
      "text/plain": [
       "[10, 7, 5, 2, 1]"
      ]
     },
     "execution_count": 69,
     "metadata": {},
     "output_type": "execute_result"
    }
   ],
   "source": [
    "l12=[5,2,7,10,1]\n",
    "# the sort() method is sor the list of items in assending order \n",
    "l12.sort(reverse=True)\n",
    "l12"
   ]
  },
  {
   "cell_type": "markdown",
   "metadata": {},
   "source": [
    "# 13. Create a list of even numbers from 1 to 20."
   ]
  },
  {
   "cell_type": "code",
   "execution_count": 76,
   "metadata": {},
   "outputs": [
    {
     "name": "stdout",
     "output_type": "stream",
     "text": [
      "[2, 4, 6, 8, 10, 12, 14, 16, 18, 20]\n"
     ]
    }
   ],
   "source": [
    "#create a empty list\n",
    "l13=[]\n",
    "for i in range(1,11):\n",
    "    l13.append(i*2)\n",
    "print(l13)"
   ]
  },
  {
   "cell_type": "markdown",
   "metadata": {},
   "source": [
    "# 14. Create a list of odd numbers from 1 to 20."
   ]
  },
  {
   "cell_type": "code",
   "execution_count": 79,
   "metadata": {},
   "outputs": [
    {
     "name": "stdout",
     "output_type": "stream",
     "text": [
      "[1, 3, 5, 7, 9, 11, 13, 15, 17, 19]\n"
     ]
    }
   ],
   "source": [
    "#create a empty list\n",
    "l14=[]\n",
    "for i in range(1,20):\n",
    "    if i%2==1:\n",
    "        l14.append(i)\n",
    "print(l14)\n"
   ]
  },
  {
   "cell_type": "markdown",
   "metadata": {},
   "source": [
    "# 15. Find the sum of all elements in a list."
   ]
  },
  {
   "cell_type": "code",
   "execution_count": 81,
   "metadata": {},
   "outputs": [
    {
     "name": "stdout",
     "output_type": "stream",
     "text": [
      "sum of list is : 15\n"
     ]
    }
   ],
   "source": [
    "l15=[1,2,3,4,5]\n",
    "sum=0\n",
    "for i in l15:\n",
    "    sum=sum+i\n",
    "print(\"sum of list is :\",sum)"
   ]
  },
  {
   "cell_type": "markdown",
   "metadata": {},
   "source": [
    "# 16. Find the maximum value in a list."
   ]
  },
  {
   "cell_type": "code",
   "execution_count": 86,
   "metadata": {},
   "outputs": [
    {
     "name": "stdout",
     "output_type": "stream",
     "text": [
      "maxmimum value in the list 5\n"
     ]
    }
   ],
   "source": [
    "l16=[1,2,3,4,5]\n",
    "print(\"maxmimum value in the list\", max(l16))"
   ]
  },
  {
   "cell_type": "markdown",
   "metadata": {},
   "source": [
    "# 17. Find the minimum value in a list."
   ]
  },
  {
   "cell_type": "code",
   "execution_count": 88,
   "metadata": {},
   "outputs": [
    {
     "name": "stdout",
     "output_type": "stream",
     "text": [
      "minimum value in the list  1\n"
     ]
    }
   ],
   "source": [
    "l17=[1,2,3,4,5]\n",
    "print(\"minimum value in the list \",min(l17))"
   ]
  },
  {
   "cell_type": "markdown",
   "metadata": {},
   "source": [
    "# 18. Create a list of squares of numbers from 1 to 10."
   ]
  },
  {
   "cell_type": "code",
   "execution_count": 19,
   "metadata": {},
   "outputs": [
    {
     "name": "stdout",
     "output_type": "stream",
     "text": [
      "1\n",
      "4\n",
      "9\n",
      "16\n",
      "25\n",
      "36\n",
      "49\n",
      "64\n",
      "81\n",
      "100\n"
     ]
    }
   ],
   "source": [
    "res2=[]\n",
    "l18=[1,2,3,4,5,6,7,8,9,10]\n",
    "for x in l18:\n",
    "    r=x*x\n",
    "    print(r)\n",
    "\n"
   ]
  },
  {
   "cell_type": "markdown",
   "metadata": {},
   "source": [
    "# 19. Create a list of random numbers."
   ]
  },
  {
   "cell_type": "code",
   "execution_count": 20,
   "metadata": {},
   "outputs": [
    {
     "name": "stdout",
     "output_type": "stream",
     "text": [
      "Random number list is : [19, 49, 30, 13, 20, 5, 14]\n"
     ]
    }
   ],
   "source": [
    "# to generate random number list\n",
    "# using random.sample()\n",
    "import random\n",
    " \n",
    "# to generate random number list\n",
    "res = random.sample(range(1, 50), 7)\n",
    " \n",
    "# printing result\n",
    "print (\"Random number list is : \" +  str(res))"
   ]
  },
  {
   "cell_type": "markdown",
   "metadata": {},
   "source": [
    "# 20. Remove duplicates from a list."
   ]
  },
  {
   "cell_type": "code",
   "execution_count": 3,
   "metadata": {},
   "outputs": [
    {
     "name": "stdout",
     "output_type": "stream",
     "text": [
      "[1, 2, 3, 4, 5, 2, 1, 6, 7]\n",
      "after remove duplicates\n",
      "{1, 2, 3, 4, 5, 6, 7}\n"
     ]
    }
   ],
   "source": [
    "#create alist\n",
    "l20=[1,2,3,4,5,2,1,6,7]\n",
    "#created list\n",
    "print(l20)\n",
    "#using set() method to liminate duplicate elements\n",
    "print(\"after remove duplicates\")\n",
    "print(set(l20))"
   ]
  },
  {
   "cell_type": "markdown",
   "metadata": {},
   "source": [
    "# 21. Find the common elements between two lists."
   ]
  },
  {
   "cell_type": "code",
   "execution_count": 5,
   "metadata": {},
   "outputs": [
    {
     "name": "stdout",
     "output_type": "stream",
     "text": [
      "2\n",
      "5\n"
     ]
    }
   ],
   "source": [
    "a = [1, 2, 3, 4, 5]\n",
    "b = [5, 6, 7, 8, 9,2]\n",
    "#uing in operator to check two lists , if print it.\n",
    "for i in a:\n",
    "    if i in b:\n",
    "        print(i)"
   ]
  },
  {
   "cell_type": "markdown",
   "metadata": {},
   "source": [
    "# 22. Find the difference between two lists."
   ]
  },
  {
   "cell_type": "code",
   "execution_count": 8,
   "metadata": {},
   "outputs": [
    {
     "name": "stdout",
     "output_type": "stream",
     "text": [
      "[1, 2, 4, 7]\n"
     ]
    }
   ],
   "source": [
    "x=[1,2,3,4,5,6,7]\n",
    "y=[3,5,6]\n",
    "#to find defference x-y\n",
    "z=[]\n",
    "for i in x:\n",
    "    if i not in y:\n",
    "        z.append(i)\n",
    "\n",
    "print(z)"
   ]
  },
  {
   "cell_type": "markdown",
   "metadata": {},
   "source": [
    "# 23. Merge two lists."
   ]
  },
  {
   "cell_type": "code",
   "execution_count": 9,
   "metadata": {},
   "outputs": [
    {
     "data": {
      "text/plain": [
       "['a', 'b', 'c', 1, 2, 3]"
      ]
     },
     "execution_count": 9,
     "metadata": {},
     "output_type": "execute_result"
    }
   ],
   "source": [
    "#metging list in different ways +, append method\n",
    "x1 = [\"a\", \"b\" , \"c\"]\n",
    "x2 = [1, 2, 3]\n",
    "x1+x2"
   ]
  },
  {
   "cell_type": "markdown",
   "metadata": {},
   "source": [
    "# 24. Multiply all elements in a list by 2."
   ]
  },
  {
   "cell_type": "code",
   "execution_count": 12,
   "metadata": {},
   "outputs": [
    {
     "name": "stdout",
     "output_type": "stream",
     "text": [
      "[10, 20, 30]\n"
     ]
    }
   ],
   "source": [
    "l24=[5,10,15]\n",
    "res=[]\n",
    "#multiplay with 2 in the list\n",
    "for i in l24:\n",
    "    res.append(i*2)\n",
    "print(res)\n",
    "    "
   ]
  },
  {
   "cell_type": "markdown",
   "metadata": {},
   "source": [
    "# 25. Filter out all even numbers from a list."
   ]
  },
  {
   "cell_type": "code",
   "execution_count": 15,
   "metadata": {},
   "outputs": [
    {
     "name": "stdout",
     "output_type": "stream",
     "text": [
      "[5, 15]\n"
     ]
    }
   ],
   "source": [
    "l25=[2,4,5,10,8,15]\n",
    "res=[]\n",
    "\n",
    "for i in l25:\n",
    "    if i%2!=0:\n",
    "        res.append(i)\n",
    "print(res)"
   ]
  },
  {
   "cell_type": "markdown",
   "metadata": {},
   "source": [
    "# 26. Convert a list of strings to a list of integers."
   ]
  },
  {
   "cell_type": "code",
   "execution_count": 20,
   "metadata": {},
   "outputs": [
    {
     "name": "stdout",
     "output_type": "stream",
     "text": [
      "[1, 10, 100]\n"
     ]
    }
   ],
   "source": [
    "#using eval() function convert string to integers\n",
    "l26=[\"1\",\"10\",\"100\"]\n",
    "r=[]\n",
    "for i in l26:\n",
    "    r.append(eval(i))\n",
    "print(r)\n"
   ]
  },
  {
   "cell_type": "markdown",
   "metadata": {},
   "source": [
    "# 27. Convert a list of integers to a list of strings"
   ]
  },
  {
   "cell_type": "code",
   "execution_count": 2,
   "metadata": {},
   "outputs": [
    {
     "name": "stdout",
     "output_type": "stream",
     "text": [
      "['1', '2', '3']\n"
     ]
    }
   ],
   "source": [
    "l27=[1,2,3]\n",
    "r1=[]\n",
    "for i in l27:\n",
    "    r1.append(str(i))\n",
    "print(r1)    \n"
   ]
  },
  {
   "cell_type": "markdown",
   "metadata": {},
   "source": [
    "# 28. Flatten a nested list."
   ]
  },
  {
   "cell_type": "code",
   "execution_count": 6,
   "metadata": {},
   "outputs": [
    {
     "name": "stdout",
     "output_type": "stream",
     "text": [
      "List [[10, 20, 30, 40], [50, 60, 70], [80, 90, 100]]\n",
      "Flat List [10, 20, 30, 40, 50, 60, 70, 80, 90, 100]\n"
     ]
    }
   ],
   "source": [
    " #Convert a nested list into a flat list using Nested for Loops\n",
    "lis = [[10, 20, 30, 40], [50, 60, 70], [80, 90, 100]]\n",
    "print('List', lis)\n",
    "flatList = []\n",
    "    # Iterate with outer list\n",
    "for i in lis:\n",
    "    if type(i) is list:\n",
    "    # Check if type is list than iterate through the sublist\n",
    "        for item in i:\n",
    "            flatList.append(item)\n",
    "    else:\n",
    "        flatList.append(i)\n",
    "    \n",
    " \n",
    " \n",
    "print('Flat List', flatList)"
   ]
  },
  {
   "cell_type": "markdown",
   "metadata": {},
   "source": [
    "# 29. Create a list of the first 10 Fibonacci numbers."
   ]
  },
  {
   "cell_type": "code",
   "execution_count": 16,
   "metadata": {},
   "outputs": [
    {
     "name": "stdout",
     "output_type": "stream",
     "text": [
      "0\n",
      "1 1 2 3 5 8 13 21 34 "
     ]
    }
   ],
   "source": [
    " #Function to print first n\n",
    "# Fibonacci Numbers\n",
    "n=10\n",
    "a= 0\n",
    "b = 1\n",
    "print(a)\n",
    "if (n < 1):\n",
    "    print(a, end=\" \")\n",
    "for x in range(1, n):\n",
    "    print(b, end=\" \")\n",
    "    c=a+b\n",
    "    a= b\n",
    "    b = c\n",
    "    "
   ]
  },
  {
   "cell_type": "markdown",
   "metadata": {},
   "source": [
    "# 30. Check if a list is sorted."
   ]
  },
  {
   "cell_type": "code",
   "execution_count": 3,
   "metadata": {},
   "outputs": [
    {
     "name": "stdout",
     "output_type": "stream",
     "text": [
      "Original list : [100, 4, 5, 8, 10]\n",
      "No, List is not sorted.\n"
     ]
    }
   ],
   "source": [
    "# to check if list is sorted\n",
    " \n",
    "# initializing list\n",
    "test_list = [100, 4, 5, 8, 10]\n",
    " \n",
    "# printing original list\n",
    "print (\"Original list : \" + str(test_list))\n",
    " \n",
    "# using sort() to\n",
    "# check sorted list\n",
    "flag = 0\n",
    "test_list1 = test_list[:]\n",
    "test_list1.sort()\n",
    "if (test_list1 == test_list):\n",
    "    flag = 1\n",
    "     \n",
    "# printing result\n",
    "if (flag) :\n",
    "    print (\"Yes, List is sorted.\")\n",
    "else :\n",
    "    print (\"No, List is not sorted.\")\n",
    " "
   ]
  },
  {
   "cell_type": "markdown",
   "metadata": {},
   "source": [
    "# 31. Rotate a list to the left by `n` positions."
   ]
  },
  {
   "cell_type": "code",
   "execution_count": 4,
   "metadata": {},
   "outputs": [
    {
     "name": "stdout",
     "output_type": "stream",
     "text": [
      "Original list : [1, 4, 6, 7, 2]\n",
      "List after left rotate by 3 : [7, 2, 1, 4, 6]\n"
     ]
    }
   ],
   "source": [
    "# initializing list\n",
    "test_list = [1, 4, 6, 7, 2]\n",
    " \n",
    "# printing original list\n",
    "print (\"Original list : \" + str(test_list))\n",
    " \n",
    "# using slicing to left rotate by 3\n",
    "test_list = test_list[3:] + test_list[:3]\n",
    " \n",
    "# Printing list after left rotate\n",
    "print (\"List after left rotate by 3 : \" + str(test_list))\n",
    " "
   ]
  },
  {
   "cell_type": "markdown",
   "metadata": {},
   "source": [
    "# 32. Rotate a list to the right by `n` positions"
   ]
  },
  {
   "cell_type": "code",
   "execution_count": 5,
   "metadata": {},
   "outputs": [
    {
     "name": "stdout",
     "output_type": "stream",
     "text": [
      "Original list : [1, 4, 6, 7, 2]\n",
      "List after right rotate by 3(back to original) : [6, 7, 2, 1, 4]\n"
     ]
    }
   ],
   "source": [
    "# initializing list\n",
    "test_list = [1, 4, 6, 7, 2]\n",
    " \n",
    "# printing original list\n",
    "print (\"Original list : \" + str(test_list))\n",
    " \n",
    "\n",
    "# using slicing to right rotate by 3\n",
    "\n",
    "test_list = test_list[-3:] + test_list[:-3]\n",
    " \n",
    "# Printing after right rotate\n",
    "print (\"List after right rotate by 3(back to original) : \"\n",
    "                                        + str(test_list))"
   ]
  },
  {
   "cell_type": "markdown",
   "metadata": {},
   "source": [
    "# 33. Create a list of prime numbers up to 50."
   ]
  },
  {
   "cell_type": "code",
   "execution_count": 1,
   "metadata": {},
   "outputs": [
    {
     "name": "stdout",
     "output_type": "stream",
     "text": [
      "The prime numbers in this range are:  [3, 5, 5, 5, 7, 7, 7, 7, 7, 9, 11, 11, 11, 11, 11, 11, 11, 11, 11, 13, 13, 13, 13, 13, 13, 13, 13, 13, 13, 13, 15, 17, 17, 17, 17, 17, 17, 17, 17, 17, 17, 17, 17, 17, 17, 17, 19, 19, 19, 19, 19, 19, 19, 19, 19, 19, 19, 19, 19, 19, 19, 19, 19, 21, 23, 23, 23, 23, 23, 23, 23, 23, 23, 23, 23, 23, 23, 23, 23, 23, 23, 23, 23, 23, 23, 25, 25, 25, 27, 29, 29, 29, 29, 29, 29, 29, 29, 29, 29, 29, 29, 29, 29, 29, 29, 29, 29, 29, 29, 29, 29, 29, 29, 29, 29, 29, 31, 31, 31, 31, 31, 31, 31, 31, 31, 31, 31, 31, 31, 31, 31, 31, 31, 31, 31, 31, 31, 31, 31, 31, 31, 31, 31, 31, 31, 33, 35, 35, 35, 37, 37, 37, 37, 37, 37, 37, 37, 37, 37, 37, 37, 37, 37, 37, 37, 37, 37, 37, 37, 37, 37, 37, 37, 37, 37, 37, 37, 37, 37, 37, 37, 37, 37, 37, 39, 41, 41, 41, 41, 41, 41, 41, 41, 41, 41, 41, 41, 41, 41, 41, 41, 41, 41, 41, 41, 41, 41, 41, 41, 41, 41, 41, 41, 41, 41, 41, 41, 41, 41, 41, 41, 41, 41, 41, 43, 43, 43, 43, 43, 43, 43, 43, 43, 43, 43, 43, 43, 43, 43, 43, 43, 43, 43, 43, 43, 43, 43, 43, 43, 43, 43, 43, 43, 43, 43, 43, 43, 43, 43, 43, 43, 43, 43, 43, 43, 45, 47, 47, 47, 47, 47, 47, 47, 47, 47, 47, 47, 47, 47, 47, 47, 47, 47, 47, 47, 47, 47, 47, 47, 47, 47, 47, 47, 47, 47, 47, 47, 47, 47, 47, 47, 47, 47, 47, 47, 47, 47, 47, 47, 47, 47, 49, 49, 49, 49, 49]\n"
     ]
    }
   ],
   "source": [
    "# prime number in an interval\n",
    "starting_range = 2\n",
    "ending_range = 50\n",
    "lst=[]\n",
    "flag=0                   #Declaring flag variable\n",
    "for i in range(starting_range, ending_range):#elements range between starting and ending range\n",
    "    for j in range(2,i): \n",
    "            if(i%j==0):     #checking if number is divisible or not\n",
    "                flag=1        #if number is divisible, then flag variable will become 1\n",
    "                break\n",
    "            else:\n",
    "                flag=0     \n",
    "                if(flag==0):    #if flag variable is 0, then element will append in list \n",
    "                    lst.append(i)\n",
    "\n",
    "                    \n",
    "                \n",
    "if len(lst) == 0:\n",
    "    print(\"There are no prime numbers in this range\")\n",
    "else:\n",
    "    print(\"The prime numbers in this range are: \", lst)"
   ]
  },
  {
   "cell_type": "markdown",
   "metadata": {},
   "source": [
    "# 34. Split a list into chunks of size `n`."
   ]
  },
  {
   "cell_type": "code",
   "execution_count": 6,
   "metadata": {},
   "outputs": [
    {
     "name": "stdout",
     "output_type": "stream",
     "text": [
      "[['PWskills', 'for', 'pwskills'], ['like', 'pwskills', 'inueron'], ['good', 'love', 'questions'], ['words', 'life', 'ok']]\n",
      "\n"
     ]
    }
   ],
   "source": [
    "# create a list  \n",
    "my_list = ['PWskills', 'for', 'pwskills', 'like',\n",
    "           'pwskills','inueron', 'good', 'love',\n",
    "               'questions','words', 'life','ok']\n",
    "  \n",
    "# Yield successive n-sized\n",
    "# chunks from l.\n",
    "def divide_chunks(l, n):\n",
    "      \n",
    "    # looping till length l\n",
    "    for i in range(0, len(l), n): \n",
    "        yield l[i:i + n]\n",
    "  \n",
    "# How many elements each\n",
    "# list should have\n",
    "n = 3\n",
    "  \n",
    "x = list(divide_chunks(my_list, n))\n",
    "print (x)\n",
    "print()"
   ]
  },
  {
   "cell_type": "markdown",
   "metadata": {},
   "source": [
    "# 35 Find the second largest number in a list"
   ]
  },
  {
   "cell_type": "code",
   "execution_count": 2,
   "metadata": {},
   "outputs": [
    {
     "name": "stdout",
     "output_type": "stream",
     "text": [
      "given list [10, 55, 20, 4, 88, 88, 99]\n",
      "Second largest element is: 88\n"
     ]
    }
   ],
   "source": [
    "#list of elements \n",
    "l35=[10,55,20,4,88,88,99]\n",
    "# List of numbers\n",
    " \n",
    "# Removing duplicates from the list\n",
    "list2 = list(set(l35))\n",
    " \n",
    "# Sorting the  list\n",
    "list2.sort()\n",
    "print('given list',l35)\n",
    "# Printing the second last element\n",
    "print(\"Second largest element is:\", list2[-2])"
   ]
  },
  {
   "cell_type": "markdown",
   "metadata": {},
   "source": [
    "# 36. Replace every element in a list with its square."
   ]
  },
  {
   "cell_type": "code",
   "execution_count": 1,
   "metadata": {},
   "outputs": [
    {
     "name": "stdout",
     "output_type": "stream",
     "text": [
      "[25, 36, 49, 64]\n"
     ]
    }
   ],
   "source": [
    "l36=[5,6,7,8]\n",
    "res=[]\n",
    "for i in l36:\n",
    "    res.append(i*i)\n",
    "\n",
    "print(res)"
   ]
  },
  {
   "cell_type": "markdown",
   "metadata": {},
   "source": [
    "# 37. Convert a list to a dictionary where list elements become keys and their indices become values."
   ]
  },
  {
   "cell_type": "code",
   "execution_count": 3,
   "metadata": {},
   "outputs": [
    {
     "name": "stdout",
     "output_type": "stream",
     "text": [
      "{0: 'raju', 1: 'raki', 2: 'archana'}\n"
     ]
    }
   ],
   "source": [
    "l37=['raju','raki','archana']\n",
    "#list can be convert into dictionary using dict() function  \n",
    "friends = dict(enumerate(l37))\n",
    "print(friends)"
   ]
  },
  {
   "cell_type": "markdown",
   "metadata": {},
   "source": [
    "# 38. Shuffle the elements of a list randomly."
   ]
  },
  {
   "cell_type": "code",
   "execution_count": 5,
   "metadata": {},
   "outputs": [
    {
     "name": "stdout",
     "output_type": "stream",
     "text": [
      "['archana', 'afrin', 'raki', 'anu', 'aish']\n"
     ]
    }
   ],
   "source": [
    "import random\n",
    "l38=['anu','aish','afrin','archana','raki']\n",
    "random.shuffle(l38)\n",
    "print(l38)"
   ]
  },
  {
   "cell_type": "markdown",
   "metadata": {},
   "source": [
    "# 39. Create a list of the first 10 factorial numbers."
   ]
  },
  {
   "cell_type": "code",
   "execution_count": 7,
   "metadata": {},
   "outputs": [
    {
     "name": "stdout",
     "output_type": "stream",
     "text": [
      "[1, 2, 6, 24, 120, 720, 5040, 40320, 362880, 3628800]\n"
     ]
    }
   ],
   "source": [
    "import math\n",
    "l39=[1,2,3,4,5,6,7,8,9,10]\n",
    "ress=[]\n",
    "for i in l39:\n",
    "    ress.append(math.factorial(i))\n",
    "print(ress)\n",
    " "
   ]
  },
  {
   "cell_type": "markdown",
   "metadata": {},
   "source": [
    "# 40. Check if two lists have at least one element in common."
   ]
  },
  {
   "cell_type": "code",
   "execution_count": 11,
   "metadata": {},
   "outputs": [
    {
     "name": "stdout",
     "output_type": "stream",
     "text": [
      "[1, 2, 3, 4, 9]\n",
      "[5, 6, 7, 8, 9]\n",
      "at least one element is common 9\n"
     ]
    }
   ],
   "source": [
    "a=[1,2,3,4,9]\n",
    "b=[5,6,7,8,9]\n",
    "print(a)\n",
    "print(b)\n",
    "# one element common\n",
    "# using traversal of list\n",
    "  \n",
    "    # traverse in the 1st list\n",
    "for i in a:\n",
    "# traverse in the 2nd list\n",
    "    for y in b:\n",
    "     # if one common\n",
    "     if i == y:\n",
    "        print(\"at least one element is common\",y)\n",
    "            \n",
    "    \n",
    "\n",
    "     "
   ]
  },
  {
   "cell_type": "markdown",
   "metadata": {},
   "source": [
    "# 41. Remove all elements from a list."
   ]
  },
  {
   "cell_type": "code",
   "execution_count": 15,
   "metadata": {},
   "outputs": [
    {
     "name": "stdout",
     "output_type": "stream",
     "text": [
      "list is [1, 5, 10, 'aish', 'anu']\n",
      "empty list is  []\n"
     ]
    }
   ],
   "source": [
    "l41=[1,5,10,'aish','anu']\n",
    "print('list is',l41 )\n",
    "#remove all the elements from the list clear()\n",
    "l41.clear()\n",
    "print('empty list is ',l41)"
   ]
  },
  {
   "cell_type": "markdown",
   "metadata": {},
   "source": [
    "# 42. Replace negative numbers in a list with 0."
   ]
  },
  {
   "cell_type": "code",
   "execution_count": 18,
   "metadata": {},
   "outputs": [
    {
     "name": "stdout",
     "output_type": "stream",
     "text": [
      "initial list [ 1  2 -3  4 -5 -6]\n",
      "New resulting list:  [1 2 0 4 0 0]\n"
     ]
    }
   ],
   "source": [
    "\n",
    "# to replace negative value with 0\n",
    "#to perform this operation using numpy library using arrays \n",
    "import numpy as np\n",
    "l42= [1, 2, -3, 4, -5, -6]\n",
    "ini_array1 = np.array(l42)\n",
    " \n",
    "# printing initial arrays\n",
    "print(\"initial list\", ini_array1)\n",
    " \n",
    "# code to replace all negative value with 0\n",
    "ini_array1[ini_array1<0] = 0\n",
    " \n",
    "# printing result\n",
    "print(\"New resulting list: \", ini_array1)\n",
    "        "
   ]
  },
  {
   "cell_type": "markdown",
   "metadata": {},
   "source": [
    "# 43. Convert a string into a list of words"
   ]
  },
  {
   "cell_type": "code",
   "execution_count": 24,
   "metadata": {},
   "outputs": [
    {
     "data": {
      "text/plain": [
       "['we', 'are', 'learing', 'python']"
      ]
     },
     "execution_count": 24,
     "metadata": {},
     "output_type": "execute_result"
    }
   ],
   "source": [
    "s43=\"we are learing python\"\n",
    "ss=s43.split()\n",
    "ss\n"
   ]
  },
  {
   "cell_type": "markdown",
   "metadata": {},
   "source": [
    "# 44. Convert a list of words into a string."
   ]
  },
  {
   "cell_type": "code",
   "execution_count": 27,
   "metadata": {},
   "outputs": [
    {
     "name": "stdout",
     "output_type": "stream",
     "text": [
      "wearelearningpython\n"
     ]
    }
   ],
   "source": [
    "#create a list\n",
    "l44=[\"we\",\"are\", \"learning\",\"python\"]\n",
    "s44=\"\"\n",
    "for i in l44:\n",
    "    s44=s44+i\n",
    "print(s44 )"
   ]
  },
  {
   "cell_type": "markdown",
   "metadata": {},
   "source": [
    "# 45. Create a list of the first `n` powers of 2."
   ]
  },
  {
   "cell_type": "code",
   "execution_count": 45,
   "metadata": {},
   "outputs": [
    {
     "name": "stdout",
     "output_type": "stream",
     "text": [
      "Enter Number of Term: 4\n",
      "\n",
      "2 raised to the power  0  is  1\n",
      "2 raised to the power  1  is  2\n",
      "2 raised to the power  2  is  4\n",
      "2 raised to the power  3  is  8\n"
     ]
    }
   ],
   "source": [
    "def MyFun(x):\n",
    "    return 2 ** x\n",
    "\n",
    "print(\"Enter Number of Term: \", end=\"\")\n",
    "tot = int(input())\n",
    "\n",
    "print()\n",
    "for i in range(tot):\n",
    "    print(\"2 raised to the power \", i, \" is \", MyFun(i))"
   ]
  },
  {
   "cell_type": "markdown",
   "metadata": {},
   "source": [
    "# 46. Find the longest string in a list of strings."
   ]
  },
  {
   "cell_type": "code",
   "execution_count": 2,
   "metadata": {},
   "outputs": [
    {
     "name": "stdout",
     "output_type": "stream",
     "text": [
      "The original list : ['gfg', 'is', 'best', 'for', 'pwskills']\n",
      "Maximum length string is : pwskills\n"
     ]
    }
   ],
   "source": [
    "# initialize list\n",
    "test_list = ['gfg', 'is', 'best', 'for', 'pwskills']\n",
    " \n",
    "# printing original list\n",
    "print(\"The original list : \" + str(test_list))\n",
    " \n",
    "# Longest String in list\n",
    "# using max() + key\n",
    "res = max(test_list, key = len)\n",
    " \n",
    "# printing result\n",
    "print(\"Maximum length string is : \" + res)"
   ]
  },
  {
   "cell_type": "markdown",
   "metadata": {},
   "source": [
    "# 47. Find the shortest string in a list of strings."
   ]
  },
  {
   "cell_type": "code",
   "execution_count": 3,
   "metadata": {},
   "outputs": [
    {
     "name": "stdout",
     "output_type": "stream",
     "text": [
      "The original list : ['gfg', 'is', 'best', 'for', 'pwskills']\n",
      "Minimum length string is : is\n"
     ]
    }
   ],
   "source": [
    "# initialize list\n",
    "test_list = ['gfg', 'is', 'best', 'for', 'pwskills']\n",
    " \n",
    "# printing original list\n",
    "print(\"The original list : \" + str(test_list))\n",
    " \n",
    "# Longest String in list\n",
    "# using min() + key\n",
    "res = min(test_list, key = len)\n",
    " \n",
    "# printing result\n",
    "print(\"Minimum length string is : \" + res)"
   ]
  },
  {
   "cell_type": "markdown",
   "metadata": {},
   "source": [
    "# 48. Create a list of the first `n` triangular numbers."
   ]
  },
  {
   "cell_type": "code",
   "execution_count": 4,
   "metadata": {},
   "outputs": [
    {
     "name": "stdout",
     "output_type": "stream",
     "text": [
      "The number is a triangular number\n"
     ]
    }
   ],
   "source": [
    "# triangular number using simple approach.\n",
    " \n",
    "# Returns True if 'num' is triangular, else False\n",
    "def isTriangular(num):\n",
    " \n",
    "    # Base case\n",
    "    if (num < 0):\n",
    "        return False\n",
    " \n",
    "    # A Triangular number must be\n",
    "    # sum of first n natural numbers\n",
    "    sum, n = 0, 1\n",
    " \n",
    "    while(sum <= num):\n",
    "     \n",
    "        sum = sum + n\n",
    "        if (sum == num):\n",
    "            return True\n",
    "        n += 1\n",
    " \n",
    "    return False\n",
    " \n",
    "# Driver code\n",
    "n = 10\n",
    "if (isTriangular(n)):\n",
    "    print(\"The number is a triangular number\")\n",
    "else:\n",
    "    print(\"The number is NOT a triangular number\")"
   ]
  },
  {
   "cell_type": "markdown",
   "metadata": {},
   "source": [
    "# 49. Check if a list contains another list as a subsequence."
   ]
  },
  {
   "cell_type": "code",
   "execution_count": 5,
   "metadata": {},
   "outputs": [
    {
     "name": "stdout",
     "output_type": "stream",
     "text": [
      "Original list : [9, 4, 5, 8, 10]\n",
      "Original sub list : [10, 5, 4]\n",
      "Yes, list is subset of other.\n"
     ]
    }
   ],
   "source": [
    "# to check if list is subset of other\n",
    "# using all()\n",
    " \n",
    "# initializing list\n",
    "test_list = [9, 4, 5, 8, 10]\n",
    "sub_list = [10, 5, 4]\n",
    " \n",
    "# printing original lists\n",
    "print(\"Original list : \" + str(test_list))\n",
    "print(\"Original sub list : \" + str(sub_list))\n",
    " \n",
    "# using all() to\n",
    "# check subset of list\n",
    "flag = 0\n",
    "if(all(x in test_list for x in sub_list)):\n",
    "    flag = 1\n",
    " \n",
    "# printing result\n",
    "if (flag):\n",
    "    print(\"Yes, list is subset of other.\")\n",
    "else:\n",
    "    print(\"No, list is not subset of other.\")"
   ]
  },
  {
   "cell_type": "markdown",
   "metadata": {},
   "source": [
    "# 50. Swap two elements in a list by their indices."
   ]
  },
  {
   "cell_type": "code",
   "execution_count": 8,
   "metadata": {},
   "outputs": [
    {
     "name": "stdout",
     "output_type": "stream",
     "text": [
      "[23, 65, 19, 90]\n",
      "after swaping two elements 1,3 positions\n",
      "[23, 90, 19, 65]\n"
     ]
    }
   ],
   "source": [
    "#given posioin\n",
    "l50 = [23, 65, 19, 90]\n",
    "print(l50)\n",
    "pos1, pos2  = 1, 3\n",
    "l50[pos1], l50[pos2] = l50[pos2], l50[pos1]\n",
    "print(\"after swaping two elements 1,3 positions\")\n",
    "print(l50)"
   ]
  },
  {
   "cell_type": "markdown",
   "metadata": {},
   "source": [
    "# Tuple Based Practice Problem :"
   ]
  },
  {
   "cell_type": "markdown",
   "metadata": {},
   "source": [
    "# 1. Create a tuple with integers from 1 to 5."
   ]
  },
  {
   "cell_type": "code",
   "execution_count": 10,
   "metadata": {},
   "outputs": [
    {
     "name": "stdout",
     "output_type": "stream",
     "text": [
      "(1, 2, 3, 4, 5)\n"
     ]
    }
   ],
   "source": [
    "t=(1,2,3,4,5)\n",
    "print(t)"
   ]
  },
  {
   "cell_type": "markdown",
   "metadata": {},
   "source": [
    "# 2. Access the third element of a tuple."
   ]
  },
  {
   "cell_type": "code",
   "execution_count": 11,
   "metadata": {},
   "outputs": [
    {
     "data": {
      "text/plain": [
       "3"
      ]
     },
     "execution_count": 11,
     "metadata": {},
     "output_type": "execute_result"
    }
   ],
   "source": [
    "t2=(1,2,3,4,5)\n",
    "#access third element\n",
    "t2[2]"
   ]
  },
  {
   "cell_type": "markdown",
   "metadata": {},
   "source": [
    "# 3. Find the length of a tuple without using the `len()` function."
   ]
  },
  {
   "cell_type": "code",
   "execution_count": 23,
   "metadata": {},
   "outputs": [
    {
     "name": "stdout",
     "output_type": "stream",
     "text": [
      "length of the tuple 4\n"
     ]
    }
   ],
   "source": [
    "t3=(10,20,\"abc\",50)\n",
    "#using for loop to find length\n",
    "count=0\n",
    "for i in t3:\n",
    "    count=count+1\n",
    "print(\"length of the tuple\",count)"
   ]
  },
  {
   "cell_type": "markdown",
   "metadata": {},
   "source": [
    "# 4. Count the occurrences of an element in a tuple"
   ]
  },
  {
   "cell_type": "code",
   "execution_count": 25,
   "metadata": {},
   "outputs": [
    {
     "name": "stdout",
     "output_type": "stream",
     "text": [
      "tuple is  (4, 5, 6, 8, 5, 10, 9, 5)\n",
      "enter a number5\n",
      "number of occurrences of a an element 3\n"
     ]
    }
   ],
   "source": [
    "#create a tuple\n",
    "t4=(4,5,6,8,5,10,9,5)\n",
    "print(\"tuple is \",t4)\n",
    "x=int(input(\"enter a number\"))\n",
    "count=0\n",
    "for i in t4:\n",
    "    if x==i:\n",
    "        count=count+1\n",
    "print(\"number of occurrences of a an element\",count)"
   ]
  },
  {
   "cell_type": "markdown",
   "metadata": {},
   "source": [
    "# 5. Find the index of the first occurrence of an element in a tuple."
   ]
  },
  {
   "cell_type": "code",
   "execution_count": 28,
   "metadata": {},
   "outputs": [
    {
     "name": "stdout",
     "output_type": "stream",
     "text": [
      "Index of 1 is 0\n"
     ]
    }
   ],
   "source": [
    "# Creating tuples\n",
    "Tuple = ( 1, 3, 4, 2, 5, 6 )\n",
    "   \n",
    "# getting the index of 3\n",
    "res = Tuple.index(1)\n",
    "print('Index of 1 is', res)"
   ]
  },
  {
   "cell_type": "markdown",
   "metadata": {},
   "source": [
    "# 6. Check if an element exists in a tuple"
   ]
  },
  {
   "cell_type": "code",
   "execution_count": 32,
   "metadata": {},
   "outputs": [
    {
     "name": "stdout",
     "output_type": "stream",
     "text": [
      "given tupel is  (10, 20, 50, 'abc')\n",
      "exist\n"
     ]
    }
   ],
   "source": [
    "t6=(10,20,50,\"abc\")\n",
    "print(\"given tupel is \",t6)\n",
    "n=20\n",
    "if n in t6:\n",
    "    print(\"exist\")\n",
    "else:\n",
    "    print(\"does not exist\")"
   ]
  },
  {
   "cell_type": "markdown",
   "metadata": {},
   "source": [
    "# 7. Convert a tuple to a list."
   ]
  },
  {
   "cell_type": "code",
   "execution_count": 33,
   "metadata": {},
   "outputs": [
    {
     "name": "stdout",
     "output_type": "stream",
     "text": [
      "[10, 20, 50, 'abc']\n"
     ]
    }
   ],
   "source": [
    "t6=(10,20,50,\"abc\")\n",
    "lt=list(t6)\n",
    "print(lt)"
   ]
  },
  {
   "cell_type": "markdown",
   "metadata": {},
   "source": [
    "# 8. Convert a list to a tuple."
   ]
  },
  {
   "cell_type": "code",
   "execution_count": 34,
   "metadata": {},
   "outputs": [
    {
     "name": "stdout",
     "output_type": "stream",
     "text": [
      "(10, 20, 30, 40)\n"
     ]
    }
   ],
   "source": [
    "#create list\n",
    "lt1=[10,20,30,40]\n",
    "tl=tuple(lt1)\n",
    "print(tl)"
   ]
  },
  {
   "cell_type": "markdown",
   "metadata": {},
   "source": [
    "# 9. Unpack the elements of a tuple into variables."
   ]
  },
  {
   "cell_type": "code",
   "execution_count": 38,
   "metadata": {},
   "outputs": [
    {
     "name": "stdout",
     "output_type": "stream",
     "text": [
      "hai\n",
      "bye\n",
      "good\n",
      "bad\n"
     ]
    }
   ],
   "source": [
    "t9=(\"hai\",\"bye\",\"good\",\"bad\")\n",
    "(a,b,c,d)=t9\n",
    "print(a)\n",
    "print(b)\n",
    "print(c)\n",
    "print(d)"
   ]
  },
  {
   "cell_type": "markdown",
   "metadata": {},
   "source": [
    "# 10. Create a tuple of even numbers from 1 to 10."
   ]
  },
  {
   "cell_type": "code",
   "execution_count": 42,
   "metadata": {},
   "outputs": [
    {
     "name": "stdout",
     "output_type": "stream",
     "text": [
      "2\n",
      "4\n",
      "6\n",
      "8\n"
     ]
    }
   ],
   "source": [
    "t10=()\n",
    "for i in range(1,10):\n",
    "    if i%2==0:\n",
    "        print(i)"
   ]
  },
  {
   "cell_type": "markdown",
   "metadata": {},
   "source": [
    "# 11. Create a tuple of odd numbers from 1 to 10."
   ]
  },
  {
   "cell_type": "code",
   "execution_count": 43,
   "metadata": {},
   "outputs": [
    {
     "name": "stdout",
     "output_type": "stream",
     "text": [
      "1\n",
      "3\n",
      "5\n",
      "7\n",
      "9\n"
     ]
    }
   ],
   "source": [
    "t10=()\n",
    "for i in range(1,10):\n",
    "    if i%2==1:\n",
    "        print(i)"
   ]
  },
  {
   "cell_type": "markdown",
   "metadata": {},
   "source": [
    "# 12. Concatenate two tuples."
   ]
  },
  {
   "cell_type": "code",
   "execution_count": 45,
   "metadata": {},
   "outputs": [
    {
     "name": "stdout",
     "output_type": "stream",
     "text": [
      "(10, 20, 30, 410, 50, 60)\n"
     ]
    }
   ],
   "source": [
    "t11=(10,20,30)\n",
    "t22=(410,50,60)\n",
    "t33=t11+t22\n",
    "print(t33)"
   ]
  },
  {
   "cell_type": "markdown",
   "metadata": {},
   "source": [
    "# 13. Repeat a tuple three times"
   ]
  },
  {
   "cell_type": "code",
   "execution_count": 48,
   "metadata": {},
   "outputs": [
    {
     "name": "stdout",
     "output_type": "stream",
     "text": [
      "given tuple (100, 200, 300)\n",
      "((100, 200, 300), (100, 200, 300), (100, 200, 300))\n"
     ]
    }
   ],
   "source": [
    "#create tuple\n",
    "t13=(100,200,300)\n",
    "print(\"given tuple\",t13)\n",
    "t13r=((t13, )*3)\n",
    "print(t13r)"
   ]
  },
  {
   "cell_type": "markdown",
   "metadata": {},
   "source": [
    "# 14. Check if a tuple is empty."
   ]
  },
  {
   "cell_type": "code",
   "execution_count": 51,
   "metadata": {},
   "outputs": [
    {
     "name": "stdout",
     "output_type": "stream",
     "text": [
      "given list is not empty\n"
     ]
    }
   ],
   "source": [
    "t14=(\"aish\")\n",
    "if len(t14)==0:\n",
    "    print(\"given list is empty\")\n",
    "else:\n",
    "    print(\"given list is not empty\")"
   ]
  },
  {
   "cell_type": "markdown",
   "metadata": {},
   "source": [
    "# 15. Create a nested tuple."
   ]
  },
  {
   "cell_type": "code",
   "execution_count": 3,
   "metadata": {},
   "outputs": [
    {
     "name": "stdout",
     "output_type": "stream",
     "text": [
      "The original tuple 1 : ((1, 2),)\n",
      "The original tuple 2 : ((3, 4),)\n",
      "((1, 2), (3, 4))\n"
     ]
    }
   ],
   "source": [
    "# Concatenating tuples to nested tuples\n",
    "# using + operator + \", \" operator during initialization\n",
    " \n",
    "# initialize tuples\n",
    "t155 = (1,2),\n",
    "t156 = (3,4),\n",
    " \n",
    "# printing original tuples\n",
    "print(\"The original tuple 1 : \" + str(t155))\n",
    "print(\"The original tuple 2 : \" + str(t156))\n",
    "res=t155+t156\n",
    "print(res)"
   ]
  },
  {
   "cell_type": "markdown",
   "metadata": {},
   "source": [
    "# 16. Access the first element of a nested tuple."
   ]
  },
  {
   "cell_type": "code",
   "execution_count": 9,
   "metadata": {},
   "outputs": [
    {
     "name": "stdout",
     "output_type": "stream",
     "text": [
      "The original tuple 1 : ((1, 2),)\n",
      "The original tuple 2 : ((3, 4),)\n",
      "((1, 2), (3, 4))\n",
      "first element of nested list \n",
      "1\n"
     ]
    }
   ],
   "source": [
    "# initialize tuples\n",
    "t155 = (1,2),\n",
    "t156 = (3,4),\n",
    " \n",
    "# printing original tuples\n",
    "print(\"The original tuple 1 : \" + str(t155))\n",
    "print(\"The original tuple 2 : \" + str(t156))\n",
    "res=t155+t156\n",
    "print(res)\n",
    "#first element posion is 00\n",
    "print(\"first element of nested list \")\n",
    "print(res[0][0])\n"
   ]
  },
  {
   "cell_type": "markdown",
   "metadata": {},
   "source": [
    "# 17. Create a tuple with a single element."
   ]
  },
  {
   "cell_type": "code",
   "execution_count": 12,
   "metadata": {},
   "outputs": [
    {
     "name": "stdout",
     "output_type": "stream",
     "text": [
      "single element tuple is  5\n"
     ]
    }
   ],
   "source": [
    "#creating tuple\n",
    "t17=(5)\n",
    "print('single element tuple is ',t17)"
   ]
  },
  {
   "cell_type": "markdown",
   "metadata": {},
   "source": [
    "# 18. Compare two tuples."
   ]
  },
  {
   "cell_type": "code",
   "execution_count": 13,
   "metadata": {},
   "outputs": [
    {
     "name": "stdout",
     "output_type": "stream",
     "text": [
      "The original tuple 1 : ((1, 2),)\n",
      "The original tuple 2 : ((3, 4),)\n",
      "Are all elements in second tuple greater than first ? : True\n"
     ]
    }
   ],
   "source": [
    "# initialize tuples\n",
    "t155 = (1,2),\n",
    "t156 = (3,4),\n",
    " \n",
    "# printing original tuples\n",
    "print(\"The original tuple 1 : \" + str(t155))\n",
    "print(\"The original tuple 2 : \" + str(t156))\n",
    "\n",
    "# Comparing tuples\n",
    "# using generator expression + all() + zip()\n",
    "res = all(x < y for x, y in zip(t155, t156))\n",
    " \n",
    "# printing result\n",
    "print(\"Are all elements in second tuple greater than first ? : \" + str(res))"
   ]
  },
  {
   "cell_type": "markdown",
   "metadata": {},
   "source": [
    "# 19. Delete a tuple.\n"
   ]
  },
  {
   "cell_type": "code",
   "execution_count": 15,
   "metadata": {},
   "outputs": [
    {
     "name": "stdout",
     "output_type": "stream",
     "text": [
      "('a', 'b', 'c')\n",
      "tuple has deleted\n"
     ]
    }
   ],
   "source": [
    "# the del operator using to delete entire tuple\n",
    "t19=(\"a\",\"b\",\"c\")\n",
    "print(t19)\n",
    "del t19\n",
    "print('tuple has deleted')"
   ]
  },
  {
   "cell_type": "markdown",
   "metadata": {},
   "source": [
    "# 20. Slice a tuple."
   ]
  },
  {
   "cell_type": "code",
   "execution_count": 16,
   "metadata": {},
   "outputs": [
    {
     "data": {
      "text/plain": [
       "(10, 20, 30, 40, 50)"
      ]
     },
     "execution_count": 16,
     "metadata": {},
     "output_type": "execute_result"
    }
   ],
   "source": [
    "t20=(10,20,30,40,50)\n",
    "t20[:] #print all elements in tuple using slice method "
   ]
  },
  {
   "cell_type": "markdown",
   "metadata": {},
   "source": [
    "# 21. Find the maximum value in a tuple"
   ]
  },
  {
   "cell_type": "code",
   "execution_count": 18,
   "metadata": {},
   "outputs": [
    {
     "name": "stdout",
     "output_type": "stream",
     "text": [
      "find max value in tuple\n",
      "50\n"
     ]
    }
   ],
   "source": [
    "t21=(10,20,30,40,50)\n",
    "print('find max value in tuple')\n",
    "print(max(t21))"
   ]
  },
  {
   "cell_type": "markdown",
   "metadata": {},
   "source": [
    "# 22. Find the minimum value in a tuple"
   ]
  },
  {
   "cell_type": "code",
   "execution_count": 20,
   "metadata": {},
   "outputs": [
    {
     "name": "stdout",
     "output_type": "stream",
     "text": [
      "find min value in tuple\n",
      "10\n"
     ]
    }
   ],
   "source": [
    "t22=(10,20,30,40,50)\n",
    "print('find min value in tuple')\n",
    "print(min(t22))"
   ]
  },
  {
   "cell_type": "markdown",
   "metadata": {},
   "source": [
    "# 23. Convert a string to a tuple of characters."
   ]
  },
  {
   "cell_type": "code",
   "execution_count": 26,
   "metadata": {},
   "outputs": [
    {
     "name": "stdout",
     "output_type": "stream",
     "text": [
      "('w', 'e', ' ', 'a', 'r', 'e', ' ', 'g', 'o', 'o', 'd', ' ', 's', 't', 'u', 'd', 'e', 'n', 't', 's')\n"
     ]
    }
   ],
   "source": [
    "s23='we are good students'\n",
    "ts=[*s23]\n",
    "print(tuple(ts))"
   ]
  },
  {
   "cell_type": "markdown",
   "metadata": {},
   "source": [
    "# 24. Convert a tuple of characters to a string."
   ]
  },
  {
   "cell_type": "code",
   "execution_count": 30,
   "metadata": {},
   "outputs": [
    {
     "name": "stdout",
     "output_type": "stream",
     "text": [
      "aish\n"
     ]
    }
   ],
   "source": [
    "t24=('a','i','s','h')\n",
    "s24=''\n",
    "for i in t24:\n",
    "    s24=s24+i\n",
    "print(s24)"
   ]
  },
  {
   "cell_type": "markdown",
   "metadata": {},
   "source": [
    "# 25. Create a tuple from multiple data types."
   ]
  },
  {
   "cell_type": "code",
   "execution_count": 31,
   "metadata": {},
   "outputs": [
    {
     "name": "stdout",
     "output_type": "stream",
     "text": [
      "\n",
      "Tuple with Mixed Datatypes: \n",
      "(5, 'Welcome', 7.5, 'pwskills')\n"
     ]
    }
   ],
   "source": [
    "#with Mixed Datatype\n",
    "t25 = (5, 'Welcome', 7.5, 'pwskills')\n",
    "print(\"\\nTuple with Mixed Datatypes: \")\n",
    "print(t25)"
   ]
  },
  {
   "cell_type": "markdown",
   "metadata": {},
   "source": [
    "# 26. Check if two tuples are identical."
   ]
  },
  {
   "cell_type": "code",
   "execution_count": 34,
   "metadata": {},
   "outputs": [
    {
     "name": "stdout",
     "output_type": "stream",
     "text": [
      "created tuples are \n",
      "(10, 20, 30)\n",
      "(10, 21, 30)\n",
      "compare two tuple\n",
      "two tuples are not identical\n"
     ]
    }
   ],
   "source": [
    "#creating two tuples\n",
    "t266=(10,20,30)\n",
    "t267=(10,21,30)\n",
    "print(\"created tuples are \")\n",
    "print(t266)\n",
    "print(t267)\n",
    "print(\"compare two tuple\")\n",
    "if t266==t267:\n",
    "    print(\"two tuples are identical\")\n",
    "else:\n",
    "    print(\"two tuples are not identical\")"
   ]
  },
  {
   "cell_type": "markdown",
   "metadata": {},
   "source": [
    "# 27. Sort the elements of a tuple"
   ]
  },
  {
   "cell_type": "code",
   "execution_count": 41,
   "metadata": {},
   "outputs": [
    {
     "name": "stdout",
     "output_type": "stream",
     "text": [
      "(10, 2, 5, 100, 6)\n",
      "sorted tuple is\n",
      "[2, 5, 6, 10, 100]\n"
     ]
    }
   ],
   "source": [
    "#create tuple\n",
    "t27=(10,2,5,100,6)\n",
    "print(t27)\n",
    "#sort tuple elements using sorted() method in python  \n",
    "res=sorted(t27)\n",
    "print(\"sorted tuple is\")\n",
    "print(res)"
   ]
  },
  {
   "cell_type": "markdown",
   "metadata": {},
   "source": [
    "# 28. Convert a tuple of integers to a tuple of strings."
   ]
  },
  {
   "cell_type": "code",
   "execution_count": 53,
   "metadata": {},
   "outputs": [
    {
     "data": {
      "text/plain": [
       "('1', '0', '2', '0', '3', '0', '4', '0')"
      ]
     },
     "execution_count": 53,
     "metadata": {},
     "output_type": "execute_result"
    }
   ],
   "source": [
    "t28=(10,20,30,40)\n",
    "st=\"\"\n",
    "for i in t28:\n",
    "    st=st+str(i)\n",
    "\n",
    "\n",
    "tuple(st)"
   ]
  },
  {
   "cell_type": "markdown",
   "metadata": {},
   "source": [
    "# 29. Convert a tuple of strings to a tuple of integers."
   ]
  },
  {
   "cell_type": "code",
   "execution_count": 55,
   "metadata": {},
   "outputs": [
    {
     "name": "stdout",
     "output_type": "stream",
     "text": [
      "(10, 20, 30)\n"
     ]
    }
   ],
   "source": [
    "tuple1 = ('10', '20', '30')\n",
    "x=[int(i) for i in tuple1]\n",
    "print(tuple(x))"
   ]
  },
  {
   "cell_type": "markdown",
   "metadata": {},
   "source": [
    "# 30. Merge two tuples."
   ]
  },
  {
   "cell_type": "code",
   "execution_count": 2,
   "metadata": {},
   "outputs": [
    {
     "name": "stdout",
     "output_type": "stream",
     "text": [
      "tuples are \n",
      "(1, 2, 3)\n",
      "('a', 'b', 'c')\n",
      "after merging \n",
      "(1, 2, 3, 'a', 'b', 'c')\n"
     ]
    }
   ],
   "source": [
    "#creating tuples\n",
    "tm1=(1,2,3)\n",
    "tm2=('a','b','c')\n",
    "print(\"tuples are \")\n",
    "print(tm1)\n",
    "print(tm2)\n",
    "#merge two tuples\n",
    "res=tm1+tm2\n",
    "print(\"after merging \")\n",
    "print(res)"
   ]
  },
  {
   "cell_type": "markdown",
   "metadata": {},
   "source": [
    "# 31. Flatten a nested tuple."
   ]
  },
  {
   "cell_type": "code",
   "execution_count": 3,
   "metadata": {},
   "outputs": [
    {
     "name": "stdout",
     "output_type": "stream",
     "text": [
      "The original tuple : ((4, 5), ((4, 7), (8, 9), (10, 11)), ((9, 10), (3, 4)))\n",
      "The flattened tuple : (4, 5, (4, 7), (8, 9), (10, 11), (9, 10), (3, 4))\n"
     ]
    }
   ],
   "source": [
    "import itertools\n",
    " \n",
    "# initializing tuple\n",
    "test_tuple = ((4, 5), ((4, 7), (8, 9), (10, 11)), (((9, 10), (3, 4))))\n",
    " \n",
    "# printing original tuple\n",
    "print(\"The original tuple : \" + str(test_tuple))\n",
    " \n",
    "# Flatten Nested Tuples using itertools.chain.from_iterable()\n",
    "res = tuple(itertools.chain.from_iterable(test_tuple))\n",
    " \n",
    "# printing result\n",
    "print(\"The flattened tuple : \" + str(res))"
   ]
  },
  {
   "cell_type": "markdown",
   "metadata": {},
   "source": [
    "# 32. Create a tuple of the first 5 prime numbers"
   ]
  },
  {
   "cell_type": "code",
   "execution_count": 20,
   "metadata": {},
   "outputs": [
    {
     "name": "stdout",
     "output_type": "stream",
     "text": [
      "(2, 3, 5, 7, 11)\n"
     ]
    }
   ],
   "source": [
    "#create a function print prime numbers list and then convert into tuple\n",
    "def prime_numbers(n):\n",
    "    primes = []\n",
    "    for i in range(2, n + 1):\n",
    "        for j in range(2, int(i ** 0.5) + 1):\n",
    "            if i%j == 0:\n",
    "                break\n",
    "        else:\n",
    "            primes.append(i)\n",
    "    return primes\n",
    "\n",
    "prime_list = prime_numbers(12)\n",
    "#convert list to tuple \n",
    "r=tuple(prime_list)\n",
    "print(r)"
   ]
  },
  {
   "cell_type": "markdown",
   "metadata": {},
   "source": [
    "# 33. Check if a tuple is a palindrome."
   ]
  },
  {
   "cell_type": "code",
   "execution_count": 22,
   "metadata": {},
   "outputs": [
    {
     "name": "stdout",
     "output_type": "stream",
     "text": [
      "tuple is palindrome\n"
     ]
    }
   ],
   "source": [
    "t33=(1,2,3,2,1)\n",
    "if t33==t33[::-1]:\n",
    "    print(\"tuple is palindrome\")\n",
    "else:\n",
    "    print(\"tuple is not a palindrome\")"
   ]
  },
  {
   "cell_type": "markdown",
   "metadata": {},
   "source": [
    "# 34. Create a tuple of squares of numbers from 1 to 5."
   ]
  },
  {
   "cell_type": "code",
   "execution_count": 24,
   "metadata": {},
   "outputs": [
    {
     "name": "stdout",
     "output_type": "stream",
     "text": [
      "the square of integers from 1 to 5 (1, 4, 9, 16, 25)\n"
     ]
    }
   ],
   "source": [
    "t34=()\n",
    "for i in range(1,6):\n",
    "    t34=t34+(i**2,)\n",
    "print(\"the square of integers from 1 to 5\",t34)\n",
    "    "
   ]
  },
  {
   "cell_type": "markdown",
   "metadata": {},
   "source": [
    "# 35. Filter out all even numbers from a tuple."
   ]
  },
  {
   "cell_type": "code",
   "execution_count": 25,
   "metadata": {},
   "outputs": [
    {
     "name": "stdout",
     "output_type": "stream",
     "text": [
      "The original list is : [(6, 4, 2, 8), (5, 6, 7, 6), (8, 0, 2), (7,)]\n",
      "Filtered Tuples : [(6, 4, 2, 8), (8, 0, 2)]\n"
     ]
    }
   ],
   "source": [
    "# Filter Tuples with All Even Elements\n",
    "# Using loop\n",
    " \n",
    "# initializing list\n",
    "test_list = [(6, 4, 2, 8), (5, 6, 7, 6), (8, 0, 2), (7, )]\n",
    " \n",
    "# printing original list\n",
    "print(\"The original list is : \" + str(test_list))\n",
    " \n",
    "res_list = []\n",
    "for sub in test_list:\n",
    "    res = True\n",
    "     \n",
    "    # check if all are even\n",
    "    for ele in sub:\n",
    "        if ele % 2 != 0:\n",
    "            res = False\n",
    "            break\n",
    "    if res:\n",
    "        res_list.append(sub)\n",
    " \n",
    "# printing results\n",
    "print(\"Filtered Tuples : \" + str(res_list))"
   ]
  },
  {
   "cell_type": "markdown",
   "metadata": {},
   "source": [
    "# 36. Multiply all elements in a tuple by 2."
   ]
  },
  {
   "cell_type": "code",
   "execution_count": 26,
   "metadata": {},
   "outputs": [
    {
     "name": "stdout",
     "output_type": "stream",
     "text": [
      "the square of integers from 1 to 5 (20, 40, 60, 80, 100)\n"
     ]
    }
   ],
   "source": [
    "tupple=(10,20,30,40,50)\n",
    "t36=()\n",
    "for i in tupple:\n",
    "    t36=t36+(i*2,)\n",
    "print(\"the square of integers from 1 to 5\",t36)\n",
    "    "
   ]
  },
  {
   "cell_type": "markdown",
   "metadata": {},
   "source": [
    "# 37. Create a tuple of random numbers."
   ]
  },
  {
   "cell_type": "code",
   "execution_count": 28,
   "metadata": {},
   "outputs": [
    {
     "name": "stdout",
     "output_type": "stream",
     "text": [
      "[15 18 18 16 12 19 18 15 12 14]\n",
      "(15, 18, 18, 16, 12, 19, 18, 15, 12, 14)\n"
     ]
    }
   ],
   "source": [
    "import numpy as np\n",
    "import random \n",
    "X=np.random.randint(10,20,size=10)\n",
    "print(X)\n",
    "Tuple_1=tuple(X)\n",
    "print(Tuple_1)"
   ]
  },
  {
   "cell_type": "markdown",
   "metadata": {},
   "source": [
    "# 38. Check if a tuple is sorted"
   ]
  },
  {
   "cell_type": "code",
   "execution_count": 30,
   "metadata": {},
   "outputs": [
    {
     "name": "stdout",
     "output_type": "stream",
     "text": [
      "tuple is sorted\n"
     ]
    }
   ],
   "source": [
    "# create a tuple\n",
    "t = (1, 2, 3, 4, 5)\n",
    "# check if tuple is sorted\n",
    "if t == tuple(sorted(t)):\n",
    "    print(\"tuple is sorted\")\n",
    "else:\n",
    "    print(\"tuple is not sorted\")"
   ]
  },
  {
   "cell_type": "markdown",
   "metadata": {},
   "source": [
    "# 39. Rotate a tuple to the left by `n` positions."
   ]
  },
  {
   "cell_type": "code",
   "execution_count": 32,
   "metadata": {},
   "outputs": [
    {
     "name": "stdout",
     "output_type": "stream",
     "text": [
      "Original list : (1, 4, 6, 7, 2)\n",
      "List after left rotate by 3 : (7, 2, 1, 4, 6)\n"
     ]
    }
   ],
   "source": [
    "test_list = (1, 4, 6, 7, 2)\n",
    " \n",
    "# printing original list\n",
    "print (\"Original list : \" + str(test_list))\n",
    " \n",
    "# using slicing to left rotate by 3\n",
    "test_list = test_list[3:] + test_list[:3]\n",
    " \n",
    "# Printing list after left rotate\n",
    "print (\"List after left rotate by 3 : \" + str(test_list))\n",
    " \n"
   ]
  },
  {
   "cell_type": "code",
   "execution_count": null,
   "metadata": {},
   "outputs": [],
   "source": []
  },
  {
   "cell_type": "markdown",
   "metadata": {},
   "source": [
    "# 40. Rotate a tuple to the right by `n` positions."
   ]
  },
  {
   "cell_type": "code",
   "execution_count": 33,
   "metadata": {},
   "outputs": [
    {
     "name": "stdout",
     "output_type": "stream",
     "text": [
      "Original list : (1, 4, 6, 7, 2)\n",
      "List after right rotate by 3(back to original) : (6, 7, 2, 1, 4)\n"
     ]
    }
   ],
   "source": [
    "test_list = (1, 4, 6, 7, 2)\n",
    " \n",
    "# printing original list\n",
    "print (\"Original list : \" + str(test_list))\n",
    " \n",
    "\n",
    "# using slicing to right rotate by 3\n",
    "# back to Original\n",
    "test_list = test_list[-3:] + test_list[:-3]\n",
    " \n",
    "# Printing after right rotate\n",
    "print (\"List after right rotate by 3(back to original) : \"\n",
    "                                        + str(test_list))"
   ]
  },
  {
   "cell_type": "markdown",
   "metadata": {},
   "source": [
    "# 41. Create a tuple of the first 5 Fibonacci numbers."
   ]
  },
  {
   "cell_type": "code",
   "execution_count": 36,
   "metadata": {},
   "outputs": [
    {
     "name": "stdout",
     "output_type": "stream",
     "text": [
      "\n",
      "(1, 2, 3, 5, 8)\n"
     ]
    }
   ],
   "source": [
    "c=[]\n",
    "n = 5\n",
    "num1 = 0\n",
    "num2 = 1\n",
    "next_number = num2 \n",
    "count = 1\n",
    " \n",
    "while count <= n:\n",
    "    c.append(next_number)\n",
    "    count += 1\n",
    "    num1, num2 = num2, next_number\n",
    "    next_number = num1 + num2\n",
    "print()\n",
    "print(tuple(c))"
   ]
  },
  {
   "cell_type": "markdown",
   "metadata": {},
   "source": [
    "# 42. Create a tuple from user input."
   ]
  },
  {
   "cell_type": "code",
   "execution_count": 38,
   "metadata": {},
   "outputs": [
    {
     "name": "stdout",
     "output_type": "stream",
     "text": [
      "enter value10\n",
      "enter value20\n",
      "enter value30\n",
      "enter value40\n",
      "(10, 20, 30, 40)\n"
     ]
    }
   ],
   "source": [
    "tl=[]\n",
    "for i in range(1,5):\n",
    "    x=int(input(\"enter value\"))\n",
    "    tl.append(x)\n",
    "t42=tuple(tl)\n",
    "print(t42)"
   ]
  },
  {
   "cell_type": "markdown",
   "metadata": {},
   "source": [
    "# 43. Swap two elements in a tuple."
   ]
  },
  {
   "cell_type": "code",
   "execution_count": 39,
   "metadata": {},
   "outputs": [
    {
     "name": "stdout",
     "output_type": "stream",
     "text": [
      "The original list is : [(3, 4), (6, 5), (7, 8)]\n",
      "The swapped tuple list is : [(4, 3), (5, 6), (8, 7)]\n"
     ]
    }
   ],
   "source": [
    "# Python3 code to demonstrate working of\n",
    "# Swap tuple elements in list of tuples\n",
    " \n",
    "# initializing list\n",
    "test_list = [(3, 4), (6, 5), (7, 8)]\n",
    " \n",
    "# printing original list\n",
    "print(\"The original list is : \" + str(test_list))\n",
    " \n",
    "# Swap tuple elements in list of tuples\n",
    "# Using list comprehension\n",
    "res=[]\n",
    "for i in test_list:\n",
    "    x=list(i)\n",
    "    x.reverse()\n",
    "    res.append(tuple(x))\n",
    "         \n",
    "# printing result\n",
    "print(\"The swapped tuple list is : \" + str(res))"
   ]
  },
  {
   "cell_type": "markdown",
   "metadata": {},
   "source": [
    "# 44. Reverse the elements of a tuple."
   ]
  },
  {
   "cell_type": "code",
   "execution_count": 41,
   "metadata": {},
   "outputs": [
    {
     "name": "stdout",
     "output_type": "stream",
     "text": [
      "(10, 20, 30)\n",
      "reverse of the tuple\n",
      "(30, 20, 10)\n"
     ]
    }
   ],
   "source": [
    "t44=(10,20,30)\n",
    "print(t44)\n",
    "print(\"reverse of the tuple\")\n",
    "print(t44[::-1])"
   ]
  },
  {
   "cell_type": "markdown",
   "metadata": {},
   "source": [
    "# 45. Create a tuple of the first `n` powers of 2."
   ]
  },
  {
   "cell_type": "code",
   "execution_count": 43,
   "metadata": {},
   "outputs": [
    {
     "name": "stdout",
     "output_type": "stream",
     "text": [
      "Enter Number of Term: 4\n",
      "\n",
      "2 raised to the power  0  is  1\n",
      "2 raised to the power  1  is  2\n",
      "2 raised to the power  2  is  4\n",
      "2 raised to the power  3  is  8\n"
     ]
    }
   ],
   "source": [
    "def MyFun(x):\n",
    "    return 2 ** x\n",
    "\n",
    "print(\"Enter Number of Term: \", end=\"\")\n",
    "tot = int(input())\n",
    "\n",
    "print()\n",
    "for i in range(tot):\n",
    "    print(\"2 raised to the power \", i, \" is \", MyFun(i))"
   ]
  },
  {
   "cell_type": "code",
   "execution_count": null,
   "metadata": {},
   "outputs": [],
   "source": [
    "def MyFun(x):\n",
    "    return 2 ** x\n",
    "\n",
    "print(\"Enter Number of Term: \", end=\"\")\n",
    "tot = int(input())\n",
    "\n",
    "print()\n",
    "for i in range(tot):\n",
    "    print(\"2 raised to the power \", i, \" is \", MyFun(i))"
   ]
  },
  {
   "cell_type": "markdown",
   "metadata": {},
   "source": [
    "# 46. Find the longest string in a tuple of strings."
   ]
  },
  {
   "cell_type": "code",
   "execution_count": 47,
   "metadata": {},
   "outputs": [
    {
     "name": "stdout",
     "output_type": "stream",
     "text": [
      "The original list : ('gfg', 'is', 'best', 'for', 'pwskills')\n",
      "Maximum length string is : pwskills\n"
     ]
    }
   ],
   "source": [
    "# initialize list\n",
    "test_list = ('gfg', 'is', 'best', 'for', 'pwskills')\n",
    " \n",
    "# printing original list\n",
    "print(\"The original list : \" + str(test_list))\n",
    " \n",
    "# Longest String in list\n",
    "# using max() + key\n",
    "res = max(test_list, key = len)\n",
    " \n",
    "# printing result\n",
    "print(\"Maximum length string is : \" + res)"
   ]
  },
  {
   "cell_type": "markdown",
   "metadata": {},
   "source": [
    "# 47. Find the shortest string in a tuple of strings."
   ]
  },
  {
   "cell_type": "code",
   "execution_count": 48,
   "metadata": {},
   "outputs": [
    {
     "name": "stdout",
     "output_type": "stream",
     "text": [
      "The original list : ('gfg', 'is', 'best', 'for', 'pwskills')\n",
      "Maximum length string is : is\n"
     ]
    }
   ],
   "source": [
    "# initialize list\n",
    "test_list = ('gfg', 'is', 'best', 'for', 'pwskills')\n",
    " \n",
    "# printing original list\n",
    "print(\"The original list : \" + str(test_list))\n",
    " \n",
    "# Longest String in list\n",
    "# using max() + key\n",
    "res = min(test_list, key = len)\n",
    " \n",
    "# printing result\n",
    "print(\"Maximum length string is : \" + res)"
   ]
  },
  {
   "cell_type": "markdown",
   "metadata": {},
   "source": [
    "# 48. Create a tuple of the first `n` triangular numbers."
   ]
  },
  {
   "cell_type": "code",
   "execution_count": 49,
   "metadata": {},
   "outputs": [
    {
     "name": "stdout",
     "output_type": "stream",
     "text": [
      "The number is a triangular number\n"
     ]
    }
   ],
   "source": [
    "# triangular number using simple approach.\n",
    " \n",
    "# Returns True if 'num' is triangular, else False\n",
    "def isTriangular(num):\n",
    " \n",
    "    # Base case\n",
    "    if (num < 0):\n",
    "        return False\n",
    " \n",
    "    # A Triangular number must be\n",
    "    # sum of first n natural numbers\n",
    "    sum, n = 0, 1\n",
    " \n",
    "    while(sum <= num):\n",
    "     \n",
    "        sum = sum + n\n",
    "        if (sum == num):\n",
    "            return True\n",
    "        n += 1\n",
    " \n",
    "    return False\n",
    " \n",
    "# Driver code\n",
    "n = 10\n",
    "if (isTriangular(n)):\n",
    "    print(\"The number is a triangular number\")\n",
    "else:\n",
    "    print(\"The number is NOT a triangular number\")"
   ]
  },
  {
   "cell_type": "markdown",
   "metadata": {},
   "source": [
    "# 49. Check if a tuple contains another tuple as a subsequence"
   ]
  },
  {
   "cell_type": "code",
   "execution_count": 50,
   "metadata": {},
   "outputs": [
    {
     "name": "stdout",
     "output_type": "stream",
     "text": [
      "Original list : (9, 4, 5, 8, 10)\n",
      "Original sub list : (10, 5, 4)\n",
      "Yes, list is subset of other.\n"
     ]
    }
   ],
   "source": [
    "# to check if list is subset of other\n",
    "# using all()\n",
    " \n",
    "# initializing list\n",
    "test_list = (9, 4, 5, 8, 10)\n",
    "sub_list = (10, 5, 4)\n",
    " \n",
    "# printing original lists\n",
    "print(\"Original list : \" + str(test_list))\n",
    "print(\"Original sub list : \" + str(sub_list))\n",
    " \n",
    "# using all() to\n",
    "# check subset of list\n",
    "flag = 0\n",
    "if(all(x in test_list for x in sub_list)):\n",
    "    flag = 1\n",
    " \n",
    "# printing result\n",
    "if (flag):\n",
    "    print(\"Yes, list is subset of other.\")\n",
    "else:\n",
    "    print(\"No, list is not subset of other.\")"
   ]
  },
  {
   "cell_type": "markdown",
   "metadata": {},
   "source": [
    "# 50. Create a tuple of alternating 1s and 0s of length `n`."
   ]
  },
  {
   "cell_type": "code",
   "execution_count": 53,
   "metadata": {},
   "outputs": [
    {
     "name": "stdout",
     "output_type": "stream",
     "text": [
      "The list after initializing :  (1, 1, 1, 1, 0, 0, 0, 1, 1, 1, 1, 0, 0, 0)\n"
     ]
    }
   ],
   "source": [
    "# to perform cyclic initialization\n",
    "# using list comprehension\n",
    " \n",
    "# count of 1\n",
    "count_1 = 4\n",
    " \n",
    "# count of 0\n",
    "count_0 = 3\n",
    " \n",
    "# total length of list\n",
    "size = 14\n",
    " \n",
    "# initializing list cyclically\n",
    "# using list comprehension\n",
    "test_list = [1 if i % (count_1 + count_0) < count_1\n",
    "             else 0 for i in range(size)]\n",
    "\n",
    " \n",
    "# printing list after change\n",
    "print(\"The list after initializing : \", tuple(test_list))"
   ]
  },
  {
   "cell_type": "markdown",
   "metadata": {},
   "source": [
    "# Set Based Practice Problem :"
   ]
  },
  {
   "cell_type": "markdown",
   "metadata": {},
   "source": [
    "# 1. Create a set with integers from 1 to 5."
   ]
  },
  {
   "cell_type": "code",
   "execution_count": 1,
   "metadata": {},
   "outputs": [
    {
     "name": "stdout",
     "output_type": "stream",
     "text": [
      "{1, 2, 3, 4, 5}\n"
     ]
    }
   ],
   "source": [
    "s={1,2,3,4,5}\n",
    "print(s)"
   ]
  },
  {
   "cell_type": "markdown",
   "metadata": {},
   "source": [
    "# 2. Add an element to a set."
   ]
  },
  {
   "cell_type": "code",
   "execution_count": 4,
   "metadata": {},
   "outputs": [
    {
     "name": "stdout",
     "output_type": "stream",
     "text": [
      "{10, 20, 30}\n",
      "adding one element to set\n",
      "{40, 10, 20, 30}\n"
     ]
    }
   ],
   "source": [
    "#to add and element using add() method \n",
    "s2={10,20,30}\n",
    "print(s2)\n",
    "print(\"adding one element to set\")\n",
    "s2.add(40)\n",
    "print(s2)"
   ]
  },
  {
   "cell_type": "markdown",
   "metadata": {},
   "source": [
    "# 3. Remove an element from a set."
   ]
  },
  {
   "cell_type": "code",
   "execution_count": 7,
   "metadata": {},
   "outputs": [
    {
     "name": "stdout",
     "output_type": "stream",
     "text": [
      "{1000, 'one', 100}\n",
      "after remove element set elements\n",
      "{1000, 100}\n"
     ]
    }
   ],
   "source": [
    "s3={100,'one',1000}\n",
    "print(s3)\n",
    "#remove one element using remove() method\n",
    "print('after remove element set elements')\n",
    "s3.remove('one')\n",
    "print(s3)"
   ]
  },
  {
   "cell_type": "markdown",
   "metadata": {},
   "source": [
    "# 4. Check if an element exists in a set."
   ]
  },
  {
   "cell_type": "code",
   "execution_count": 8,
   "metadata": {},
   "outputs": [
    {
     "name": "stdout",
     "output_type": "stream",
     "text": [
      "checking 1000 element\n",
      "exist\n"
     ]
    }
   ],
   "source": [
    "s4={100,200,300,1000}\n",
    "print(\"checking 1000 element\")\n",
    "if 1000 in s4:\n",
    "    print(\"exist\")\n",
    "else:\n",
    "    print(\"does not exist\")"
   ]
  },
  {
   "cell_type": "markdown",
   "metadata": {},
   "source": [
    "# 5. Find the length of a set without using the `len()` function."
   ]
  },
  {
   "cell_type": "code",
   "execution_count": 11,
   "metadata": {},
   "outputs": [
    {
     "name": "stdout",
     "output_type": "stream",
     "text": [
      "length of given set is  5\n"
     ]
    }
   ],
   "source": [
    "#using for loop to count set \n",
    "s5={'a',100,500,10.2,\"hai\"}\n",
    "count=0\n",
    "for i in s5:\n",
    "    count=count+1\n",
    "print(\"length of given set is \",count)"
   ]
  },
  {
   "cell_type": "markdown",
   "metadata": {},
   "source": [
    "# 6. Clear all elements from a set."
   ]
  },
  {
   "cell_type": "code",
   "execution_count": 14,
   "metadata": {},
   "outputs": [
    {
     "name": "stdout",
     "output_type": "stream",
     "text": [
      "{'hai', 100, 10.2, 'a', 500}\n",
      "after clearing elements set is exist\n",
      "set()\n"
     ]
    }
   ],
   "source": [
    "#to clear all elements form a set using clear method \n",
    "s6={'a',100,500,10.2,\"hai\"}\n",
    "print(s6)\n",
    "print('after clearing elements set is exist')\n",
    "s6.clear()\n",
    "print(s6)"
   ]
  },
  {
   "cell_type": "markdown",
   "metadata": {},
   "source": [
    "# 7. Create a set of even numbers from 1 to 10."
   ]
  },
  {
   "cell_type": "code",
   "execution_count": 22,
   "metadata": {},
   "outputs": [
    {
     "name": "stdout",
     "output_type": "stream",
     "text": [
      "{0, 2, 4, 6, 8, 10}\n"
     ]
    }
   ],
   "source": [
    "s7=set() # creae set \n",
    "for i in range(0,11):\n",
    "    if i%2==0:\n",
    "        s7.add(i) #add() method in set add an element\n",
    "        \n",
    "print(s7)"
   ]
  },
  {
   "cell_type": "markdown",
   "metadata": {},
   "source": [
    "# 8. Create a set of odd numbers from 1 to 10."
   ]
  },
  {
   "cell_type": "code",
   "execution_count": 23,
   "metadata": {},
   "outputs": [
    {
     "name": "stdout",
     "output_type": "stream",
     "text": [
      "{1, 3, 5, 7, 9}\n"
     ]
    }
   ],
   "source": [
    "s8=set() # creae set \n",
    "for i in range(0,11):\n",
    "    if i%2 !=0:\n",
    "        s8.add(i) #add() method in set add an element\n",
    "        \n",
    "print(s8)"
   ]
  },
  {
   "cell_type": "markdown",
   "metadata": {},
   "source": [
    "# 9. Find the union of two sets."
   ]
  },
  {
   "cell_type": "code",
   "execution_count": 27,
   "metadata": {},
   "outputs": [
    {
     "name": "stdout",
     "output_type": "stream",
     "text": [
      "{'c', 'a', 20, 'b', 10, 30}\n"
     ]
    }
   ],
   "source": [
    "a={10,20,30}\n",
    "b={'a','b','c',20}\n",
    "s3=a.union(b)\n",
    "print(s3)"
   ]
  },
  {
   "cell_type": "markdown",
   "metadata": {},
   "source": [
    "# 10. Find the intersection of two sets."
   ]
  },
  {
   "cell_type": "code",
   "execution_count": 29,
   "metadata": {},
   "outputs": [
    {
     "name": "stdout",
     "output_type": "stream",
     "text": [
      "{20}\n"
     ]
    }
   ],
   "source": [
    "a={10,20,30}\n",
    "b={'a','b','c',20}\n",
    "s10=a.intersection(b)\n",
    "print(s10)"
   ]
  },
  {
   "cell_type": "markdown",
   "metadata": {},
   "source": [
    "# 11. Find the difference between two sets."
   ]
  },
  {
   "cell_type": "code",
   "execution_count": 30,
   "metadata": {},
   "outputs": [
    {
     "name": "stdout",
     "output_type": "stream",
     "text": [
      "{10, 30}\n"
     ]
    }
   ],
   "source": [
    "a={10,20,30}\n",
    "b={'a','b','c',20}\n",
    "s11=a.difference(b)\n",
    "print(s11)"
   ]
  },
  {
   "cell_type": "markdown",
   "metadata": {},
   "source": [
    "# 12. Check if a set is a subset of another set."
   ]
  },
  {
   "cell_type": "code",
   "execution_count": 36,
   "metadata": {},
   "outputs": [
    {
     "data": {
      "text/plain": [
       "True"
      ]
     },
     "execution_count": 36,
     "metadata": {},
     "output_type": "execute_result"
    }
   ],
   "source": [
    "s12={'a','b','c',1,2,3}\n",
    "s22={1,2,3}\n",
    "r=s22.issubset(s12)\n",
    "r"
   ]
  },
  {
   "cell_type": "markdown",
   "metadata": {},
   "source": [
    "# 13. Check if a set is a superset of another set."
   ]
  },
  {
   "cell_type": "code",
   "execution_count": 38,
   "metadata": {},
   "outputs": [
    {
     "data": {
      "text/plain": [
       "True"
      ]
     },
     "execution_count": 38,
     "metadata": {},
     "output_type": "execute_result"
    }
   ],
   "source": [
    "s12={'a','b','c',1,2,3}\n",
    "s22={1,2,3}\n",
    "r=s12.issuperset(s22)\n",
    "r"
   ]
  },
  {
   "cell_type": "markdown",
   "metadata": {},
   "source": [
    "# 14. Create a set from a list."
   ]
  },
  {
   "cell_type": "code",
   "execution_count": 43,
   "metadata": {},
   "outputs": [
    {
     "name": "stdout",
     "output_type": "stream",
     "text": [
      "list is\n",
      "[1, 2, 3, 4, 5]\n",
      "list convert into set\n",
      "{1, 2, 3, 4, 5}\n"
     ]
    }
   ],
   "source": [
    "ls=[1,2,3,4,5]\n",
    "print(\"list is\")\n",
    "print(ls)\n",
    "ls1=set(ls)\n",
    "print(\"list convert into set\")\n",
    "print(ls1)"
   ]
  },
  {
   "cell_type": "markdown",
   "metadata": {},
   "source": [
    "# 15. Convert a set to a list."
   ]
  },
  {
   "cell_type": "code",
   "execution_count": 46,
   "metadata": {},
   "outputs": [
    {
     "name": "stdout",
     "output_type": "stream",
     "text": [
      "{40, 10, 20, 30}\n",
      "convert into list\n",
      "[40, 10, 20, 30]\n"
     ]
    }
   ],
   "source": [
    "s15={10,20,30,40}\n",
    "print(s15)\n",
    "print('convert into list')\n",
    "sl=list(s15)\n",
    "print(sl)"
   ]
  },
  {
   "cell_type": "markdown",
   "metadata": {},
   "source": [
    "# 16. Remove a random element from a set."
   ]
  },
  {
   "cell_type": "code",
   "execution_count": 47,
   "metadata": {},
   "outputs": [
    {
     "name": "stdout",
     "output_type": "stream",
     "text": [
      "{100, 200, 300, 400, 500}\n",
      "{200, 300, 400, 500}\n"
     ]
    }
   ],
   "source": [
    "s16={100,200,300,400,500}\n",
    "print(s16)\n",
    "#using pop() method to remove element from set randomly\n",
    "s16.pop()\n",
    "print(s16)"
   ]
  },
  {
   "cell_type": "markdown",
   "metadata": {},
   "source": [
    "# 17. Pop an element from a set."
   ]
  },
  {
   "cell_type": "code",
   "execution_count": 49,
   "metadata": {},
   "outputs": [
    {
     "name": "stdout",
     "output_type": "stream",
     "text": [
      "{100, 200, 300, 400, 500}\n",
      "{200, 300, 400, 500}\n"
     ]
    }
   ],
   "source": [
    "s17={100,200,300,400,500}\n",
    "print(s17)\n",
    "#using pop() method to remove element from set randomly\n",
    "s17.pop()\n",
    "print(s17)"
   ]
  },
  {
   "cell_type": "markdown",
   "metadata": {},
   "source": [
    "# 18. Check if two sets have no elements in common."
   ]
  },
  {
   "cell_type": "code",
   "execution_count": 52,
   "metadata": {},
   "outputs": [
    {
     "name": "stdout",
     "output_type": "stream",
     "text": [
      "{'cherry', 'microsoft', 'banana', 'google'}\n"
     ]
    }
   ],
   "source": [
    "x = {\"apple\", \"banana\", \"cherry\"}\n",
    "y = {\"google\", \"microsoft\", \"apple\"}\n",
    "\n",
    "x.symmetric_difference_update(y)\n",
    "\n",
    "print(x) "
   ]
  },
  {
   "cell_type": "markdown",
   "metadata": {},
   "source": [
    "# 19. Find the symmetric difference between two sets."
   ]
  },
  {
   "cell_type": "code",
   "execution_count": 54,
   "metadata": {},
   "outputs": [
    {
     "name": "stdout",
     "output_type": "stream",
     "text": [
      "{'bat', 'fan', 'good', 'cat'}\n"
     ]
    }
   ],
   "source": [
    "x = {\"apple\", \"bat\", \"cat\"}\n",
    "y = {\"good\", \"fan\", \"apple\"}\n",
    "\n",
    "z = x.symmetric_difference(y)\n",
    "\n",
    "print(z) "
   ]
  },
  {
   "cell_type": "markdown",
   "metadata": {},
   "source": [
    "# 20. Update a set with elements from another set."
   ]
  },
  {
   "cell_type": "code",
   "execution_count": 56,
   "metadata": {},
   "outputs": [
    {
     "name": "stdout",
     "output_type": "stream",
     "text": [
      "{'c', 'a', 2000, 30000, 100, 'b'}\n"
     ]
    }
   ],
   "source": [
    "a1 = {\"a\", \"b\" , \"c\"}\n",
    "a2 = {100, 2000, 30000}\n",
    "\n",
    "a1.update(a2)\n",
    "print(a1) "
   ]
  },
  {
   "cell_type": "markdown",
   "metadata": {},
   "source": [
    "# 21. Create a set of the first 5 prime numbers."
   ]
  },
  {
   "cell_type": "code",
   "execution_count": 4,
   "metadata": {},
   "outputs": [
    {
     "name": "stdout",
     "output_type": "stream",
     "text": [
      "{2, 3, 5, 7, 11}\n"
     ]
    }
   ],
   "source": [
    "s21=set()\n",
    "n=1\n",
    "i=2\n",
    "while ( n <= 5): # change this value for more numbers\n",
    "    b=0\n",
    "    for j in range(2,int(i/2)+1):\n",
    "        if(i%j==0):\n",
    "            b=1\n",
    "            break  \n",
    "    if(b==0):\n",
    "        s21.add(i)\n",
    "        #print(i,end=', ')\n",
    "        n=n+1\n",
    "    i=i+1\n",
    "print(s21)"
   ]
  },
  {
   "cell_type": "markdown",
   "metadata": {},
   "source": [
    "# 22. Check if two sets are identical."
   ]
  },
  {
   "cell_type": "code",
   "execution_count": 1,
   "metadata": {},
   "outputs": [
    {
     "name": "stdout",
     "output_type": "stream",
     "text": [
      "two sets aare identical\n"
     ]
    }
   ],
   "source": [
    "s22={2,5,4}\n",
    "s23={2,4,5}\n",
    "if s22==s23:\n",
    "    print(\"two sets aare identical\")\n",
    "else:\n",
    "    print(\"two sets are not ideical\")"
   ]
  },
  {
   "cell_type": "markdown",
   "metadata": {},
   "source": [
    "# 23. Create a frozen set "
   ]
  },
  {
   "cell_type": "code",
   "execution_count": 6,
   "metadata": {},
   "outputs": [
    {
     "name": "stdout",
     "output_type": "stream",
     "text": [
      "True\n"
     ]
    }
   ],
   "source": [
    "#This function accepts iterable object as input parameter.\n",
    "numbers=[100,200,300,400,500]\n",
    "if 200 in numbers:\n",
    "    print(True)\n",
    "else:\n",
    "    print(False)"
   ]
  },
  {
   "cell_type": "markdown",
   "metadata": {},
   "source": [
    "# 24. Check if a set is disjoint with another set."
   ]
  },
  {
   "cell_type": "code",
   "execution_count": 8,
   "metadata": {},
   "outputs": [
    {
     "data": {
      "text/plain": [
       "True"
      ]
     },
     "execution_count": 8,
     "metadata": {},
     "output_type": "execute_result"
    }
   ],
   "source": [
    "# Python set isdisjoint() function check whether the two sets are disjoint or not\n",
    "s24={1,2,3}\n",
    "s244={5,6,7}\n",
    "s24.isdisjoint(s244)"
   ]
  },
  {
   "cell_type": "markdown",
   "metadata": {},
   "source": [
    "# 25. Create a set of squares of numbers from 1 to 5."
   ]
  },
  {
   "cell_type": "code",
   "execution_count": 9,
   "metadata": {},
   "outputs": [
    {
     "name": "stdout",
     "output_type": "stream",
     "text": [
      "{1, 4, 9, 16, 25}\n"
     ]
    }
   ],
   "source": [
    "s25=set()\n",
    "for i in range(1,6):\n",
    "    x=i*i\n",
    "    s25.add(x)\n",
    "print(s25)"
   ]
  },
  {
   "cell_type": "markdown",
   "metadata": {},
   "source": [
    "# 26. Filter out all even numbers from a set."
   ]
  },
  {
   "cell_type": "code",
   "execution_count": null,
   "metadata": {},
   "outputs": [],
   "source": [
    "s26=set()\n",
    "snum={1,2,3,4,5,6,7,8,9,10}\n",
    "for i in snum:\n",
    "    if i%2==0:\n",
    "        \n",
    "x=i*i\n",
    "    s25.add(x)\n",
    "print(s25)"
   ]
  },
  {
   "cell_type": "markdown",
   "metadata": {},
   "source": [
    "# 27. Multiply all elements in a set by 2."
   ]
  },
  {
   "cell_type": "code",
   "execution_count": 3,
   "metadata": {},
   "outputs": [
    {
     "name": "stdout",
     "output_type": "stream",
     "text": [
      "{1, 2, 3, 4, 5, 6, 7, 8, 9, 10}\n",
      "above set multiuplay with 2\n",
      "{2, 4, 6, 8, 10, 12, 14, 16, 18, 20}\n"
     ]
    }
   ],
   "source": [
    "s27=set()\n",
    "snum={1,2,3,4,5,6,7,8,9,10}\n",
    "print(snum)\n",
    "for i in snum:\n",
    "    x=i*2\n",
    "    s27.add(x)\n",
    "\n",
    "print(\"above set multiuplay with 2\")\n",
    "print(s27)"
   ]
  },
  {
   "cell_type": "markdown",
   "metadata": {},
   "source": [
    "# 28. Create a set of random numbers."
   ]
  },
  {
   "cell_type": "code",
   "execution_count": 9,
   "metadata": {},
   "outputs": [
    {
     "name": "stdout",
     "output_type": "stream",
     "text": [
      "{5, 8, 12, 13, 27}\n"
     ]
    }
   ],
   "source": [
    "import random\n",
    "s28 = set()\n",
    "for i in range(0,5):\n",
    "    n = random.randint(1,30)\n",
    "    s28.add(n)\n",
    "print(s28)"
   ]
  },
  {
   "cell_type": "markdown",
   "metadata": {},
   "source": [
    "# 29. Check if a set is empty."
   ]
  },
  {
   "cell_type": "code",
   "execution_count": 15,
   "metadata": {},
   "outputs": [
    {
     "name": "stdout",
     "output_type": "stream",
     "text": [
      "set is empty\n"
     ]
    }
   ],
   "source": [
    "# Initializing an empty set\n",
    "s29 = {}\n",
    "# Using not operator\n",
    "if len(s29)==0:\n",
    "    print (\"set is empty\")\n",
    "else:\n",
    "    print (\"set is not empty\")"
   ]
  },
  {
   "cell_type": "markdown",
   "metadata": {},
   "source": [
    "# 30. Create a nested set (hint: use frozenset)."
   ]
  },
  {
   "cell_type": "code",
   "execution_count": 16,
   "metadata": {},
   "outputs": [
    {
     "data": {
      "text/plain": [
       "{frozenset({1, 2, 3}), frozenset({1, 2, 4})}"
      ]
     },
     "execution_count": 16,
     "metadata": {},
     "output_type": "execute_result"
    }
   ],
   "source": [
    "a = {frozenset([1, 2, 3]), frozenset([1, 2, 4])}\n",
    "a"
   ]
  },
  {
   "cell_type": "markdown",
   "metadata": {},
   "source": [
    "# 31. Remove an element from a set using the discard method."
   ]
  },
  {
   "cell_type": "code",
   "execution_count": 4,
   "metadata": {},
   "outputs": [
    {
     "name": "stdout",
     "output_type": "stream",
     "text": [
      "{40, 10, 50, 20}\n"
     ]
    }
   ],
   "source": [
    "#using the discard method in python to remove a specified element\n",
    "s31={10,20,30,40,50}\n",
    "s31.discard(30)\n",
    "print(s31)"
   ]
  },
  {
   "cell_type": "markdown",
   "metadata": {},
   "source": [
    "# 32. Compare two sets."
   ]
  },
  {
   "cell_type": "code",
   "execution_count": 1,
   "metadata": {},
   "outputs": [
    {
     "name": "stdout",
     "output_type": "stream",
     "text": [
      "two sets are qual\n"
     ]
    }
   ],
   "source": [
    "s32={1,2,3}\n",
    "s322={1,2,3}\n",
    "if s32==s322:\n",
    "    print(\"two sets are qual\")\n",
    "else:\n",
    "    print(\"two sets are inequal\")"
   ]
  },
  {
   "cell_type": "markdown",
   "metadata": {},
   "source": [
    "# 33. Create a set from a string."
   ]
  },
  {
   "cell_type": "code",
   "execution_count": 2,
   "metadata": {},
   "outputs": [
    {
     "name": "stdout",
     "output_type": "stream",
     "text": [
      "{'c', 'e', 'o', 'm', 'w', 'l'}\n"
     ]
    }
   ],
   "source": [
    "s33=\"welcome\"\n",
    "s333=set(s33)\n",
    "print(s333)"
   ]
  },
  {
   "cell_type": "markdown",
   "metadata": {},
   "source": [
    "# 34. Convert a set of strings to a set of integers."
   ]
  },
  {
   "cell_type": "code",
   "execution_count": 10,
   "metadata": {},
   "outputs": [
    {
     "name": "stdout",
     "output_type": "stream",
     "text": [
      "Modified list is : {40, 10, 50, 20, 30}\n"
     ]
    }
   ],
   "source": [
    "\n",
    "test_set = {'10', '20', '30', '40', '50'}\n",
    " \n",
    "# using map() to\n",
    "# perform conversion\n",
    "test_set = set(map(int, test_set))\n",
    " \n",
    "# Printing modified list\n",
    "print(\"Modified list is : \" + str(test_set))\n"
   ]
  },
  {
   "cell_type": "markdown",
   "metadata": {},
   "source": [
    "# 35. Convert a set of integers to a set of strings."
   ]
  },
  {
   "cell_type": "code",
   "execution_count": 13,
   "metadata": {},
   "outputs": [
    {
     "name": "stdout",
     "output_type": "stream",
     "text": [
      "Initially\n",
      "The datatype of s : <class 'set'>\n",
      "Contents of s :  {'1', '3', '4', '2'}\n",
      "The datatype of s : <class 'str'>\n",
      "Contents of s :  1, 3, 4, 2\n"
     ]
    }
   ],
   "source": [
    "\n",
    "# create a set\n",
    "s = {'1', '2', '3', '4'}\n",
    "s1={}\n",
    "print(\"Initially\")\n",
    "print(\"The datatype of s : \" + str(type(s)))\n",
    "print(\"Contents of s : \", s)\n",
    "  \n",
    "# convert Set to String\n",
    "S = ', '.join(s)\n",
    "print(\"The datatype of s : \" + str(type(S)))\n",
    "print(\"Contents of s : \", S)\n"
   ]
  },
  {
   "cell_type": "markdown",
   "metadata": {},
   "source": [
    "# 36. Create a set from a tuple."
   ]
  },
  {
   "cell_type": "code",
   "execution_count": 3,
   "metadata": {},
   "outputs": [
    {
     "name": "stdout",
     "output_type": "stream",
     "text": [
      "(1, 2, 3, 4, 5)\n",
      "convert into set \n",
      "{1, 2, 3, 4, 5}\n"
     ]
    }
   ],
   "source": [
    "# create a tuple\n",
    "t=(1,2,3,4,5)\n",
    "#print tuple\n",
    "print(t)\n",
    "print(\"convert into set \")\n",
    "s=set(t)\n",
    "print(s)"
   ]
  },
  {
   "cell_type": "markdown",
   "metadata": {},
   "source": [
    "# 37. Convert a set to a tuple."
   ]
  },
  {
   "cell_type": "code",
   "execution_count": 4,
   "metadata": {},
   "outputs": [
    {
     "name": "stdout",
     "output_type": "stream",
     "text": [
      "set is \n",
      "{'c', 'a', 'b'}\n",
      "convert into tuple\n",
      "('c', 'a', 'b')\n"
     ]
    }
   ],
   "source": [
    "s={'a','b','c'}\n",
    "print(\"set is \")\n",
    "print(s)\n",
    "print(\"convert into tuple\")\n",
    "print(tuple(s))"
   ]
  },
  {
   "cell_type": "markdown",
   "metadata": {},
   "source": [
    "# 38. Find the maximum value in a set."
   ]
  },
  {
   "cell_type": "code",
   "execution_count": 6,
   "metadata": {},
   "outputs": [
    {
     "name": "stdout",
     "output_type": "stream",
     "text": [
      "{40, 10, 80, 20, 120, 30}\n",
      "maximum value i the set is \n",
      "120\n"
     ]
    }
   ],
   "source": [
    "s38={10,20,30,40,80,120}\n",
    "print(s38)\n",
    "print(\"maximum value i the set is \")\n",
    "print(max(s38))"
   ]
  },
  {
   "cell_type": "markdown",
   "metadata": {},
   "source": [
    "# 39. Find the minimum value in a set."
   ]
  },
  {
   "cell_type": "code",
   "execution_count": 8,
   "metadata": {},
   "outputs": [
    {
     "name": "stdout",
     "output_type": "stream",
     "text": [
      "{40, 10, 80, 20, 120, 30}\n",
      "minimum value i the set is \n",
      "10\n"
     ]
    }
   ],
   "source": [
    "s39={10,20,30,40,80,120}\n",
    "print(s39)\n",
    "print(\"minimum value i the set is \")\n",
    "print(min(s39))"
   ]
  },
  {
   "cell_type": "markdown",
   "metadata": {},
   "source": [
    "# 40. Create a set from user input."
   ]
  },
  {
   "cell_type": "code",
   "execution_count": 9,
   "metadata": {},
   "outputs": [
    {
     "name": "stdout",
     "output_type": "stream",
     "text": [
      "enter some value100\n",
      "enter some value200\n",
      "enter some value300\n",
      "enter some value440\n",
      "enter some value550\n",
      "{'300', '550', '100', '200', '440'}\n"
     ]
    }
   ],
   "source": [
    "s40=set()\n",
    "for i in range(5):\n",
    "    x=input(\"enter some value\")\n",
    "    s40.add(x)\n",
    "print(s40)"
   ]
  },
  {
   "cell_type": "markdown",
   "metadata": {},
   "source": [
    "# 41. Check if the intersection of two sets is empty."
   ]
  },
  {
   "cell_type": "code",
   "execution_count": 12,
   "metadata": {},
   "outputs": [
    {
     "ename": "AttributeError",
     "evalue": "'dict' object has no attribute 'intersection'",
     "output_type": "error",
     "traceback": [
      "\u001b[1;31m---------------------------------------------------------------------------\u001b[0m",
      "\u001b[1;31mAttributeError\u001b[0m                            Traceback (most recent call last)",
      "\u001b[1;32m<ipython-input-12-78cd4bff380f>\u001b[0m in \u001b[0;36m<module>\u001b[1;34m\u001b[0m\n\u001b[0;32m      2\u001b[0m \u001b[0my\u001b[0m \u001b[1;33m=\u001b[0m \u001b[1;33m{\u001b[0m\u001b[1;33m}\u001b[0m\u001b[1;33m\u001b[0m\u001b[1;33m\u001b[0m\u001b[0m\n\u001b[0;32m      3\u001b[0m \u001b[1;33m\u001b[0m\u001b[0m\n\u001b[1;32m----> 4\u001b[1;33m \u001b[0mz\u001b[0m \u001b[1;33m=\u001b[0m \u001b[0mx\u001b[0m\u001b[1;33m.\u001b[0m\u001b[0mintersection\u001b[0m\u001b[1;33m(\u001b[0m\u001b[0my\u001b[0m\u001b[1;33m)\u001b[0m\u001b[1;33m\u001b[0m\u001b[1;33m\u001b[0m\u001b[0m\n\u001b[0m\u001b[0;32m      5\u001b[0m \u001b[1;33m\u001b[0m\u001b[0m\n\u001b[0;32m      6\u001b[0m \u001b[0mprint\u001b[0m\u001b[1;33m(\u001b[0m\u001b[0mz\u001b[0m\u001b[1;33m)\u001b[0m\u001b[1;33m\u001b[0m\u001b[1;33m\u001b[0m\u001b[0m\n",
      "\u001b[1;31mAttributeError\u001b[0m: 'dict' object has no attribute 'intersection'"
     ]
    }
   ],
   "source": [
    "# will raise error \n",
    "x = {}\n",
    "y = {}\n",
    "\n",
    "z = x.intersection(y)\n",
    "\n",
    "print(z) "
   ]
  },
  {
   "cell_type": "markdown",
   "metadata": {},
   "source": [
    "# 42. Create a set of the first 5 Fibonacci numbers."
   ]
  },
  {
   "cell_type": "code",
   "execution_count": 15,
   "metadata": {},
   "outputs": [
    {
     "name": "stdout",
     "output_type": "stream",
     "text": [
      "\n",
      "{1, 2, 3, 5, 8}\n"
     ]
    }
   ],
   "source": [
    "c=set()\n",
    "n = 5\n",
    "num1 = 0\n",
    "num2 = 1\n",
    "next_number = num2 \n",
    "count = 1\n",
    " \n",
    "while count <= n:\n",
    "    c.add(next_number)\n",
    "    count += 1\n",
    "    num1, num2 = num2, next_number\n",
    "    next_number = num1 + num2\n",
    "print()\n",
    "print(set(c))"
   ]
  },
  {
   "cell_type": "markdown",
   "metadata": {},
   "source": [
    "# 43. Remove duplicates from a list using sets."
   ]
  },
  {
   "cell_type": "code",
   "execution_count": 16,
   "metadata": {},
   "outputs": [
    {
     "name": "stdout",
     "output_type": "stream",
     "text": [
      "list of values\n",
      "[10, 20, 30, 10, 60]\n",
      "removing duplicates from the list convert into set\n",
      "{10, 20, 30, 60}\n"
     ]
    }
   ],
   "source": [
    "l=[10,20,30,10,60]\n",
    "print(\"list of values\")\n",
    "print(l)\n",
    "print(\"removing duplicates from the list convert into set\")\n",
    "s=set(l)\n",
    "print(s)"
   ]
  },
  {
   "cell_type": "markdown",
   "metadata": {},
   "source": [
    "# 44. Check if two sets have the same elements, regardless of their count."
   ]
  },
  {
   "cell_type": "code",
   "execution_count": 17,
   "metadata": {},
   "outputs": [
    {
     "name": "stdout",
     "output_type": "stream",
     "text": [
      "two sets are equal\n"
     ]
    }
   ],
   "source": [
    "s={10,20,30,78}\n",
    "s1={30,20,10,78}\n",
    "if s==s1:\n",
    "    print(\"two sets are equal\")\n",
    "else:\n",
    "    print(\"two sets are inequal \")"
   ]
  },
  {
   "cell_type": "markdown",
   "metadata": {},
   "source": [
    "# 45. Create a set of the first `n` powers of 2."
   ]
  },
  {
   "cell_type": "code",
   "execution_count": 20,
   "metadata": {},
   "outputs": [
    {
     "name": "stdout",
     "output_type": "stream",
     "text": [
      "Enter Number of Term: 5\n",
      "\n",
      "2 raised to the power  0  is  1\n",
      "2 raised to the power  1  is  2\n",
      "2 raised to the power  2  is  4\n",
      "2 raised to the power  3  is  8\n",
      "2 raised to the power  4  is  16\n",
      "{1, 2, 4, 5, 8, 16}\n"
     ]
    }
   ],
   "source": [
    "f=set()\n",
    "def MyFun(x):\n",
    "    y=2**x\n",
    "    f.add(y)\n",
    "    return y\n",
    "\n",
    "print(\"Enter Number of Term: \", end=\"\")\n",
    "tot = int(input())\n",
    "\n",
    "print()\n",
    "for i in range(tot):\n",
    "    print(\"2 raised to the power \", i, \" is \", MyFun(i))\n",
    "    f.add(tot)\n",
    "print(f)"
   ]
  },
  {
   "cell_type": "markdown",
   "metadata": {},
   "source": [
    "# 46. Find the common elements between a set and a list."
   ]
  },
  {
   "cell_type": "code",
   "execution_count": 25,
   "metadata": {},
   "outputs": [
    {
     "name": "stdout",
     "output_type": "stream",
     "text": [
      "list and sets are \n",
      "[10, 20, 30, 40]\n",
      "{50, 35, 20, 45}\n",
      "common element in list  and set is \n",
      "{20}\n"
     ]
    }
   ],
   "source": [
    "l=[10,20,30,40]\n",
    "s={20,35,45,50}\n",
    "print(\"list and sets are \")\n",
    "print(l)\n",
    "print(s)\n",
    "s46=set(l)\n",
    "z=s.intersection(s46)\n",
    "print(\"common element in list  and set is \")\n",
    "print(z)"
   ]
  },
  {
   "cell_type": "markdown",
   "metadata": {},
   "source": [
    "# 47. Create a set of the first `n` triangular numbers."
   ]
  },
  {
   "cell_type": "code",
   "execution_count": 26,
   "metadata": {},
   "outputs": [
    {
     "name": "stdout",
     "output_type": "stream",
     "text": [
      "The number is a triangular number\n"
     ]
    }
   ],
   "source": [
    "# triangular number using simple approach.\n",
    " \n",
    "# Returns True if 'num' is triangular, else False\n",
    "def isTriangular(num):\n",
    " \n",
    "    # Base case\n",
    "    if (num < 0):\n",
    "        return False\n",
    " \n",
    "    # A Triangular number must be\n",
    "    # sum of first n natural numbers\n",
    "    sum, n = 0, 1\n",
    " \n",
    "    while(sum <= num):\n",
    "     \n",
    "        sum = sum + n\n",
    "        if (sum == num):\n",
    "            return True\n",
    "        n += 1\n",
    " \n",
    "    return False\n",
    " \n",
    "# Driver code\n",
    "n = 10\n",
    "if (isTriangular(n)):\n",
    "    print(\"The number is a triangular number\")\n",
    "else:\n",
    "    print(\"The number is NOT a triangular number\")"
   ]
  },
  {
   "cell_type": "markdown",
   "metadata": {},
   "source": [
    "# 48. Check if a set contains another set as a subset."
   ]
  },
  {
   "cell_type": "code",
   "execution_count": 28,
   "metadata": {},
   "outputs": [
    {
     "name": "stdout",
     "output_type": "stream",
     "text": [
      "set contain another set\n"
     ]
    }
   ],
   "source": [
    "\n",
    "s1 = {10, 20, 30, 40, 50} \n",
    "s2 = {40, 50} \n",
    "# Output True, since, s2 elements in s1 \n",
    "if(s2.issubset(s1)):\n",
    "    print(\"set contain another set\")\n",
    "else:\n",
    "    print(\"set does not contain another set\")\n",
    "\n",
    "    \n"
   ]
  },
  {
   "cell_type": "markdown",
   "metadata": {},
   "source": [
    "# 49. Create a set of alternating 1s and 0s of length `n`."
   ]
  },
  {
   "cell_type": "code",
   "execution_count": 29,
   "metadata": {},
   "outputs": [
    {
     "name": "stdout",
     "output_type": "stream",
     "text": [
      "The list after initializing :  {0, 1}\n"
     ]
    }
   ],
   "source": [
    "# to perform cyclic initialization\n",
    "# using list comprehension\n",
    " \n",
    "# count of 1\n",
    "count_1 = 4\n",
    " \n",
    "# count of 0\n",
    "count_0 = 3\n",
    " \n",
    "# total length of list\n",
    "size = 14\n",
    " \n",
    "# initializing list cyclically\n",
    "# using list comprehension\n",
    "test_list = [1 if i % (count_1 + count_0) < count_1\n",
    "             else 0 for i in range(size)]\n",
    "\n",
    " \n",
    "# printing list after change\n",
    "print(\"The list after initializing : \", set(test_list))"
   ]
  },
  {
   "cell_type": "markdown",
   "metadata": {},
   "source": [
    "# 50. Merge multiple sets into one."
   ]
  },
  {
   "cell_type": "code",
   "execution_count": 31,
   "metadata": {},
   "outputs": [
    {
     "name": "stdout",
     "output_type": "stream",
     "text": [
      "using union method to merge sets into single one\n",
      "{1, 2, 3, 'a', 'b', 'c'}\n"
     ]
    }
   ],
   "source": [
    "s1 = {\"a\", \"b\" , \"c\"}\n",
    "s2 = {1, 2, 3}\n",
    "print(\"using union method to merge sets into single one\")\n",
    "s3 = s1.union(s2)\n",
    "print(s3) "
   ]
  },
  {
   "cell_type": "code",
   "execution_count": null,
   "metadata": {},
   "outputs": [],
   "source": []
  },
  {
   "cell_type": "code",
   "execution_count": null,
   "metadata": {},
   "outputs": [],
   "source": []
  }
 ],
 "metadata": {
  "kernelspec": {
   "display_name": "Python 3",
   "language": "python",
   "name": "python3"
  },
  "language_info": {
   "codemirror_mode": {
    "name": "ipython",
    "version": 3
   },
   "file_extension": ".py",
   "mimetype": "text/x-python",
   "name": "python",
   "nbconvert_exporter": "python",
   "pygments_lexer": "ipython3",
   "version": "3.7.3"
  }
 },
 "nbformat": 4,
 "nbformat_minor": 2
}
